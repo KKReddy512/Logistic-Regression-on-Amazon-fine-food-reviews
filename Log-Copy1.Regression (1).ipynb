{
 "cells": [
  {
   "cell_type": "markdown",
   "metadata": {},
   "source": [
    "# Amazon Fine Food Reviews Analysis"
   ]
  },
  {
   "cell_type": "markdown",
   "metadata": {},
   "source": [
    "Data Source: https://www.kaggle.com/snap/amazon-fine-food-reviews\n",
    "\n",
    "EDA: https://nycdatascience.com/blog/student-works/amazon-fine-foods-visualization/\n",
    "\n",
    "The Amazon Fine Food Reviews dataset consists of reviews of fine foods from Amazon.\n",
    "\n",
    "Number of reviews: 568,454 Number of users: 256,059 Number of products: 74,258 Timespan: Oct 1999 - Oct 2012 Number of Attributes/Columns in data: 10\n",
    "\n",
    "Attribute Information:\n",
    "\n",
    "1. Id\n",
    "2. ProductId - unique identifier for the product\n",
    "3. UserId - unqiue identifier for the user\n",
    "4. ProfileName\n",
    "5. HelpfulnessNumerator - number of users who found the review helpful\n",
    "6. HelpfulnessDenominator - number of users who indicated whether they found the review helpful or not\n",
    "7. Score - rating between 1 and 5\n",
    "8. Time - timestamp for the review\n",
    "9. Summary - brief summary of the review\n",
    "10.Text - text of the review\n",
    "\n",
    "Objective:\n",
    "\n",
    "Given a review, determine whether the review is positive (rating of 4 or 5) or negative (rating of 1 or 2).\n",
    "\n",
    "[Q] How to determine if a review is positive or negative?\n",
    "\n",
    "[Ans] We could use Score/Rating. A rating of 4 or 5 can be cosnidered as a positive review. A rating of 1 or 2 can be considered as negative one. A review of rating 3 is considered nuetral and such reviews are ignored from our analysis. This is an approximate and proxy way of determining the polarity (positivity/negativity) of a review.\n"
   ]
  },
  {
   "cell_type": "markdown",
   "metadata": {},
   "source": [
    "# [1] Reading Data"
   ]
  },
  {
   "cell_type": "markdown",
   "metadata": {},
   "source": [
    "## [1.1] Loading the data\n",
    "\n",
    "The dataset is available in two forms\n",
    "\n",
    ".csv file\n",
    "SQLite Database\n",
    "\n",
    "In order to load the data, We have used the SQLITE dataset as it is easier to query the data and visualise the data efficiently.\n",
    "\n",
    "Here as we only want to get the global sentiment of the recommendations (positive or negative), we will purposefully ignore all Scores equal to 3. If the score is above 3, then the recommendation wil be set to \"positive\". Otherwise, it will be set to \"negative\".\n"
   ]
  },
  {
   "cell_type": "code",
   "execution_count": 1,
   "metadata": {},
   "outputs": [
    {
     "name": "stderr",
     "output_type": "stream",
     "text": [
      "C:\\Users\\Delhi\\Anaconda3\\lib\\site-packages\\sklearn\\cross_validation.py:41: DeprecationWarning: This module was deprecated in version 0.18 in favor of the model_selection module into which all the refactored classes and functions are moved. Also note that the interface of the new CV iterators are different from that of this module. This module will be removed in 0.20.\n",
      "  \"This module will be removed in 0.20.\", DeprecationWarning)\n",
      "C:\\Users\\Delhi\\Anaconda3\\lib\\site-packages\\gensim\\utils.py:1197: UserWarning: detected Windows; aliasing chunkize to chunkize_serial\n",
      "  warnings.warn(\"detected Windows; aliasing chunkize to chunkize_serial\")\n"
     ]
    }
   ],
   "source": [
    "%matplotlib inline\n",
    "import warnings\n",
    "warnings.filterwarnings(\"ignore\")\n",
    "\n",
    "\n",
    "import sqlite3\n",
    "import pandas as pd\n",
    "import numpy as np\n",
    "import nltk\n",
    "import string\n",
    "import matplotlib.pyplot as plt\n",
    "import seaborn as sns\n",
    "from sklearn.feature_extraction.text import TfidfTransformer\n",
    "from sklearn.feature_extraction.text import TfidfVectorizer\n",
    "from sklearn.preprocessing import MaxAbsScaler\n",
    "from sklearn.model_selection import train_test_split\n",
    "from sklearn.cross_validation import train_test_split\n",
    "from sklearn.feature_extraction.text import CountVectorizer\n",
    "\n",
    "\n",
    "import re\n",
    "import string\n",
    "from nltk.corpus import stopwords\n",
    "from nltk.stem import PorterStemmer\n",
    "from nltk.stem.wordnet import WordNetLemmatizer\n",
    "from nltk.stem.porter import PorterStemmer\n",
    "\n",
    "from gensim.models import Word2Vec\n",
    "from gensim.models import KeyedVectors\n",
    "import pickle\n",
    "import tqdm\n",
    "from tqdm import tqdm\n",
    "import os\n",
    "\n",
    "from scipy.sparse import find\n",
    "from numpy import random\n",
    "\n",
    "# LR imports\n",
    "from sklearn.model_selection import TimeSeriesSplit, GridSearchCV\n",
    "from sklearn.linear_model import LogisticRegression\n",
    "#metrics imports\n",
    "from sklearn import metrics\n",
    "from sklearn.metrics import roc_curve,roc_auc_score,auc\n",
    "from sklearn.metrics import confusion_matrix\n",
    "from sklearn.metrics import accuracy_score, recall_score, precision_score, f1_score"
   ]
  },
  {
   "cell_type": "code",
   "execution_count": 2,
   "metadata": {},
   "outputs": [
    {
     "data": {
      "text/html": [
       "<div>\n",
       "<style scoped>\n",
       "    .dataframe tbody tr th:only-of-type {\n",
       "        vertical-align: middle;\n",
       "    }\n",
       "\n",
       "    .dataframe tbody tr th {\n",
       "        vertical-align: top;\n",
       "    }\n",
       "\n",
       "    .dataframe thead th {\n",
       "        text-align: right;\n",
       "    }\n",
       "</style>\n",
       "<table border=\"1\" class=\"dataframe\">\n",
       "  <thead>\n",
       "    <tr style=\"text-align: right;\">\n",
       "      <th></th>\n",
       "      <th>Id</th>\n",
       "      <th>ProductId</th>\n",
       "      <th>UserId</th>\n",
       "      <th>ProfileName</th>\n",
       "      <th>HelpfulnessNumerator</th>\n",
       "      <th>HelpfulnessDenominator</th>\n",
       "      <th>Score</th>\n",
       "      <th>Time</th>\n",
       "      <th>Summary</th>\n",
       "      <th>Text</th>\n",
       "    </tr>\n",
       "  </thead>\n",
       "  <tbody>\n",
       "    <tr>\n",
       "      <th>0</th>\n",
       "      <td>1</td>\n",
       "      <td>B001E4KFG0</td>\n",
       "      <td>A3SGXH7AUHU8GW</td>\n",
       "      <td>delmartian</td>\n",
       "      <td>1</td>\n",
       "      <td>1</td>\n",
       "      <td>5</td>\n",
       "      <td>1303862400</td>\n",
       "      <td>Good Quality Dog Food</td>\n",
       "      <td>I have bought several of the Vitality canned d...</td>\n",
       "    </tr>\n",
       "    <tr>\n",
       "      <th>1</th>\n",
       "      <td>2</td>\n",
       "      <td>B00813GRG4</td>\n",
       "      <td>A1D87F6ZCVE5NK</td>\n",
       "      <td>dll pa</td>\n",
       "      <td>0</td>\n",
       "      <td>0</td>\n",
       "      <td>1</td>\n",
       "      <td>1346976000</td>\n",
       "      <td>Not as Advertised</td>\n",
       "      <td>Product arrived labeled as Jumbo Salted Peanut...</td>\n",
       "    </tr>\n",
       "    <tr>\n",
       "      <th>2</th>\n",
       "      <td>3</td>\n",
       "      <td>B000LQOCH0</td>\n",
       "      <td>ABXLMWJIXXAIN</td>\n",
       "      <td>Natalia Corres \"Natalia Corres\"</td>\n",
       "      <td>1</td>\n",
       "      <td>1</td>\n",
       "      <td>4</td>\n",
       "      <td>1219017600</td>\n",
       "      <td>\"Delight\" says it all</td>\n",
       "      <td>This is a confection that has been around a fe...</td>\n",
       "    </tr>\n",
       "    <tr>\n",
       "      <th>3</th>\n",
       "      <td>4</td>\n",
       "      <td>B000UA0QIQ</td>\n",
       "      <td>A395BORC6FGVXV</td>\n",
       "      <td>Karl</td>\n",
       "      <td>3</td>\n",
       "      <td>3</td>\n",
       "      <td>2</td>\n",
       "      <td>1307923200</td>\n",
       "      <td>Cough Medicine</td>\n",
       "      <td>If you are looking for the secret ingredient i...</td>\n",
       "    </tr>\n",
       "    <tr>\n",
       "      <th>4</th>\n",
       "      <td>5</td>\n",
       "      <td>B006K2ZZ7K</td>\n",
       "      <td>A1UQRSCLF8GW1T</td>\n",
       "      <td>Michael D. Bigham \"M. Wassir\"</td>\n",
       "      <td>0</td>\n",
       "      <td>0</td>\n",
       "      <td>5</td>\n",
       "      <td>1350777600</td>\n",
       "      <td>Great taffy</td>\n",
       "      <td>Great taffy at a great price.  There was a wid...</td>\n",
       "    </tr>\n",
       "  </tbody>\n",
       "</table>\n",
       "</div>"
      ],
      "text/plain": [
       "   Id   ProductId          UserId                      ProfileName  \\\n",
       "0   1  B001E4KFG0  A3SGXH7AUHU8GW                       delmartian   \n",
       "1   2  B00813GRG4  A1D87F6ZCVE5NK                           dll pa   \n",
       "2   3  B000LQOCH0   ABXLMWJIXXAIN  Natalia Corres \"Natalia Corres\"   \n",
       "3   4  B000UA0QIQ  A395BORC6FGVXV                             Karl   \n",
       "4   5  B006K2ZZ7K  A1UQRSCLF8GW1T    Michael D. Bigham \"M. Wassir\"   \n",
       "\n",
       "   HelpfulnessNumerator  HelpfulnessDenominator  Score        Time  \\\n",
       "0                     1                       1      5  1303862400   \n",
       "1                     0                       0      1  1346976000   \n",
       "2                     1                       1      4  1219017600   \n",
       "3                     3                       3      2  1307923200   \n",
       "4                     0                       0      5  1350777600   \n",
       "\n",
       "                 Summary                                               Text  \n",
       "0  Good Quality Dog Food  I have bought several of the Vitality canned d...  \n",
       "1      Not as Advertised  Product arrived labeled as Jumbo Salted Peanut...  \n",
       "2  \"Delight\" says it all  This is a confection that has been around a fe...  \n",
       "3         Cough Medicine  If you are looking for the secret ingredient i...  \n",
       "4            Great taffy  Great taffy at a great price.  There was a wid...  "
      ]
     },
     "execution_count": 2,
     "metadata": {},
     "output_type": "execute_result"
    }
   ],
   "source": [
    "con = sqlite3.connect('database.sqlite')\n",
    "\n",
    "#Normal for every dataset contains a score from 1 to 5. \n",
    "#The review must classified as positive or a negative reviews. Neutral reviews such score = 3 are omitted.\n",
    "#We consider scores 1,2 as negative and 4,5 as positive.So we will consider reviews which are not equal to 3.\n",
    "\n",
    "filtered_data = pd.read_sql_query(\"SELECT * FROM Reviews WHERE Score != 3 LIMIT 100000\", con)\n",
    "filtered_data.head(5)"
   ]
  },
  {
   "cell_type": "code",
   "execution_count": 3,
   "metadata": {},
   "outputs": [
    {
     "name": "stdout",
     "output_type": "stream",
     "text": [
      "Number of data points in our data (100000, 10)\n"
     ]
    },
    {
     "data": {
      "text/html": [
       "<div>\n",
       "<style scoped>\n",
       "    .dataframe tbody tr th:only-of-type {\n",
       "        vertical-align: middle;\n",
       "    }\n",
       "\n",
       "    .dataframe tbody tr th {\n",
       "        vertical-align: top;\n",
       "    }\n",
       "\n",
       "    .dataframe thead th {\n",
       "        text-align: right;\n",
       "    }\n",
       "</style>\n",
       "<table border=\"1\" class=\"dataframe\">\n",
       "  <thead>\n",
       "    <tr style=\"text-align: right;\">\n",
       "      <th></th>\n",
       "      <th>Id</th>\n",
       "      <th>ProductId</th>\n",
       "      <th>UserId</th>\n",
       "      <th>ProfileName</th>\n",
       "      <th>HelpfulnessNumerator</th>\n",
       "      <th>HelpfulnessDenominator</th>\n",
       "      <th>Score</th>\n",
       "      <th>Time</th>\n",
       "      <th>Summary</th>\n",
       "      <th>Text</th>\n",
       "    </tr>\n",
       "  </thead>\n",
       "  <tbody>\n",
       "    <tr>\n",
       "      <th>0</th>\n",
       "      <td>1</td>\n",
       "      <td>B001E4KFG0</td>\n",
       "      <td>A3SGXH7AUHU8GW</td>\n",
       "      <td>delmartian</td>\n",
       "      <td>1</td>\n",
       "      <td>1</td>\n",
       "      <td>1</td>\n",
       "      <td>1303862400</td>\n",
       "      <td>Good Quality Dog Food</td>\n",
       "      <td>I have bought several of the Vitality canned d...</td>\n",
       "    </tr>\n",
       "    <tr>\n",
       "      <th>1</th>\n",
       "      <td>2</td>\n",
       "      <td>B00813GRG4</td>\n",
       "      <td>A1D87F6ZCVE5NK</td>\n",
       "      <td>dll pa</td>\n",
       "      <td>0</td>\n",
       "      <td>0</td>\n",
       "      <td>0</td>\n",
       "      <td>1346976000</td>\n",
       "      <td>Not as Advertised</td>\n",
       "      <td>Product arrived labeled as Jumbo Salted Peanut...</td>\n",
       "    </tr>\n",
       "    <tr>\n",
       "      <th>2</th>\n",
       "      <td>3</td>\n",
       "      <td>B000LQOCH0</td>\n",
       "      <td>ABXLMWJIXXAIN</td>\n",
       "      <td>Natalia Corres \"Natalia Corres\"</td>\n",
       "      <td>1</td>\n",
       "      <td>1</td>\n",
       "      <td>1</td>\n",
       "      <td>1219017600</td>\n",
       "      <td>\"Delight\" says it all</td>\n",
       "      <td>This is a confection that has been around a fe...</td>\n",
       "    </tr>\n",
       "  </tbody>\n",
       "</table>\n",
       "</div>"
      ],
      "text/plain": [
       "   Id   ProductId          UserId                      ProfileName  \\\n",
       "0   1  B001E4KFG0  A3SGXH7AUHU8GW                       delmartian   \n",
       "1   2  B00813GRG4  A1D87F6ZCVE5NK                           dll pa   \n",
       "2   3  B000LQOCH0   ABXLMWJIXXAIN  Natalia Corres \"Natalia Corres\"   \n",
       "\n",
       "   HelpfulnessNumerator  HelpfulnessDenominator  Score        Time  \\\n",
       "0                     1                       1      1  1303862400   \n",
       "1                     0                       0      0  1346976000   \n",
       "2                     1                       1      1  1219017600   \n",
       "\n",
       "                 Summary                                               Text  \n",
       "0  Good Quality Dog Food  I have bought several of the Vitality canned d...  \n",
       "1      Not as Advertised  Product arrived labeled as Jumbo Salted Peanut...  \n",
       "2  \"Delight\" says it all  This is a confection that has been around a fe...  "
      ]
     },
     "execution_count": 3,
     "metadata": {},
     "output_type": "execute_result"
    }
   ],
   "source": [
    "# For Each review the scores will be 1,2 and 4,5.\n",
    "# We will mark negative review as 0 and positive reviews as 1 for classification purposes\n",
    "def partition(x) :\n",
    "    if x > 3 :\n",
    "        return 1\n",
    "    return 0\n",
    "\n",
    "actualscore = filtered_data['Score']\n",
    "positivenegative = actualscore.map(partition)\n",
    "filtered_data['Score'] = positivenegative\n",
    "print(\"Number of data points in our data\", filtered_data.shape)\n",
    "filtered_data.head(3)"
   ]
  },
  {
   "cell_type": "code",
   "execution_count": 4,
   "metadata": {},
   "outputs": [
    {
     "data": {
      "text/html": [
       "<div>\n",
       "<style scoped>\n",
       "    .dataframe tbody tr th:only-of-type {\n",
       "        vertical-align: middle;\n",
       "    }\n",
       "\n",
       "    .dataframe tbody tr th {\n",
       "        vertical-align: top;\n",
       "    }\n",
       "\n",
       "    .dataframe thead th {\n",
       "        text-align: right;\n",
       "    }\n",
       "</style>\n",
       "<table border=\"1\" class=\"dataframe\">\n",
       "  <thead>\n",
       "    <tr style=\"text-align: right;\">\n",
       "      <th></th>\n",
       "      <th>Id</th>\n",
       "      <th>HelpfulnessNumerator</th>\n",
       "      <th>HelpfulnessDenominator</th>\n",
       "      <th>Score</th>\n",
       "      <th>Time</th>\n",
       "    </tr>\n",
       "  </thead>\n",
       "  <tbody>\n",
       "    <tr>\n",
       "      <th>count</th>\n",
       "      <td>100000.000000</td>\n",
       "      <td>100000.000000</td>\n",
       "      <td>100000.000000</td>\n",
       "      <td>100000.000000</td>\n",
       "      <td>1.000000e+05</td>\n",
       "    </tr>\n",
       "    <tr>\n",
       "      <th>mean</th>\n",
       "      <td>54380.301200</td>\n",
       "      <td>1.645130</td>\n",
       "      <td>2.106580</td>\n",
       "      <td>0.838760</td>\n",
       "      <td>1.296128e+09</td>\n",
       "    </tr>\n",
       "    <tr>\n",
       "      <th>std</th>\n",
       "      <td>31372.425622</td>\n",
       "      <td>6.212261</td>\n",
       "      <td>6.832594</td>\n",
       "      <td>0.367754</td>\n",
       "      <td>4.781070e+07</td>\n",
       "    </tr>\n",
       "    <tr>\n",
       "      <th>min</th>\n",
       "      <td>1.000000</td>\n",
       "      <td>0.000000</td>\n",
       "      <td>0.000000</td>\n",
       "      <td>0.000000</td>\n",
       "      <td>9.486720e+08</td>\n",
       "    </tr>\n",
       "    <tr>\n",
       "      <th>25%</th>\n",
       "      <td>27298.750000</td>\n",
       "      <td>0.000000</td>\n",
       "      <td>0.000000</td>\n",
       "      <td>1.000000</td>\n",
       "      <td>1.270512e+09</td>\n",
       "    </tr>\n",
       "    <tr>\n",
       "      <th>50%</th>\n",
       "      <td>54294.500000</td>\n",
       "      <td>0.000000</td>\n",
       "      <td>1.000000</td>\n",
       "      <td>1.000000</td>\n",
       "      <td>1.311379e+09</td>\n",
       "    </tr>\n",
       "    <tr>\n",
       "      <th>75%</th>\n",
       "      <td>81583.250000</td>\n",
       "      <td>2.000000</td>\n",
       "      <td>2.000000</td>\n",
       "      <td>1.000000</td>\n",
       "      <td>1.332547e+09</td>\n",
       "    </tr>\n",
       "    <tr>\n",
       "      <th>max</th>\n",
       "      <td>108623.000000</td>\n",
       "      <td>559.000000</td>\n",
       "      <td>562.000000</td>\n",
       "      <td>1.000000</td>\n",
       "      <td>1.351210e+09</td>\n",
       "    </tr>\n",
       "  </tbody>\n",
       "</table>\n",
       "</div>"
      ],
      "text/plain": [
       "                  Id  HelpfulnessNumerator  HelpfulnessDenominator  \\\n",
       "count  100000.000000         100000.000000           100000.000000   \n",
       "mean    54380.301200              1.645130                2.106580   \n",
       "std     31372.425622              6.212261                6.832594   \n",
       "min         1.000000              0.000000                0.000000   \n",
       "25%     27298.750000              0.000000                0.000000   \n",
       "50%     54294.500000              0.000000                1.000000   \n",
       "75%     81583.250000              2.000000                2.000000   \n",
       "max    108623.000000            559.000000              562.000000   \n",
       "\n",
       "               Score          Time  \n",
       "count  100000.000000  1.000000e+05  \n",
       "mean        0.838760  1.296128e+09  \n",
       "std         0.367754  4.781070e+07  \n",
       "min         0.000000  9.486720e+08  \n",
       "25%         1.000000  1.270512e+09  \n",
       "50%         1.000000  1.311379e+09  \n",
       "75%         1.000000  1.332547e+09  \n",
       "max         1.000000  1.351210e+09  "
      ]
     },
     "execution_count": 4,
     "metadata": {},
     "output_type": "execute_result"
    }
   ],
   "source": [
    "#Checking the database statistics\n",
    "filtered_data.describe()"
   ]
  },
  {
   "cell_type": "markdown",
   "metadata": {},
   "source": [
    "# 2. Exploratory data Analysis"
   ]
  },
  {
   "cell_type": "markdown",
   "metadata": {},
   "source": [
    "## 2.1 Data Cleaning: Deduplication "
   ]
  },
  {
   "cell_type": "code",
   "execution_count": 5,
   "metadata": {},
   "outputs": [
    {
     "data": {
      "text/html": [
       "<div>\n",
       "<style scoped>\n",
       "    .dataframe tbody tr th:only-of-type {\n",
       "        vertical-align: middle;\n",
       "    }\n",
       "\n",
       "    .dataframe tbody tr th {\n",
       "        vertical-align: top;\n",
       "    }\n",
       "\n",
       "    .dataframe thead th {\n",
       "        text-align: right;\n",
       "    }\n",
       "</style>\n",
       "<table border=\"1\" class=\"dataframe\">\n",
       "  <thead>\n",
       "    <tr style=\"text-align: right;\">\n",
       "      <th></th>\n",
       "      <th>Id</th>\n",
       "      <th>ProductId</th>\n",
       "      <th>UserId</th>\n",
       "      <th>ProfileName</th>\n",
       "      <th>HelpfulnessNumerator</th>\n",
       "      <th>HelpfulnessDenominator</th>\n",
       "      <th>Score</th>\n",
       "      <th>Time</th>\n",
       "      <th>Summary</th>\n",
       "      <th>Text</th>\n",
       "    </tr>\n",
       "  </thead>\n",
       "  <tbody>\n",
       "    <tr>\n",
       "      <th>0</th>\n",
       "      <td>320691</td>\n",
       "      <td>B000CQ26E0</td>\n",
       "      <td>ABXLMWJIXXAIN</td>\n",
       "      <td>Natalia Corres \"Natalia Corres\"</td>\n",
       "      <td>0</td>\n",
       "      <td>0</td>\n",
       "      <td>4</td>\n",
       "      <td>1187740800</td>\n",
       "      <td>Fast, Easy and organic</td>\n",
       "      <td>For speed and wholesome goodness, Annie's can ...</td>\n",
       "    </tr>\n",
       "    <tr>\n",
       "      <th>1</th>\n",
       "      <td>3</td>\n",
       "      <td>B000LQOCH0</td>\n",
       "      <td>ABXLMWJIXXAIN</td>\n",
       "      <td>Natalia Corres \"Natalia Corres\"</td>\n",
       "      <td>1</td>\n",
       "      <td>1</td>\n",
       "      <td>4</td>\n",
       "      <td>1219017600</td>\n",
       "      <td>\"Delight\" says it all</td>\n",
       "      <td>This is a confection that has been around a fe...</td>\n",
       "    </tr>\n",
       "    <tr>\n",
       "      <th>2</th>\n",
       "      <td>468954</td>\n",
       "      <td>B004DMGQKE</td>\n",
       "      <td>ABXLMWJIXXAIN</td>\n",
       "      <td>Natalia Corres \"Natalia Corres\"</td>\n",
       "      <td>0</td>\n",
       "      <td>0</td>\n",
       "      <td>5</td>\n",
       "      <td>1351209600</td>\n",
       "      <td>Awesome service and great products</td>\n",
       "      <td>We sent this product as a gift to my husband's...</td>\n",
       "    </tr>\n",
       "  </tbody>\n",
       "</table>\n",
       "</div>"
      ],
      "text/plain": [
       "       Id   ProductId         UserId                      ProfileName  \\\n",
       "0  320691  B000CQ26E0  ABXLMWJIXXAIN  Natalia Corres \"Natalia Corres\"   \n",
       "1       3  B000LQOCH0  ABXLMWJIXXAIN  Natalia Corres \"Natalia Corres\"   \n",
       "2  468954  B004DMGQKE  ABXLMWJIXXAIN  Natalia Corres \"Natalia Corres\"   \n",
       "\n",
       "   HelpfulnessNumerator  HelpfulnessDenominator  Score        Time  \\\n",
       "0                     0                       0      4  1187740800   \n",
       "1                     1                       1      4  1219017600   \n",
       "2                     0                       0      5  1351209600   \n",
       "\n",
       "                              Summary  \\\n",
       "0              Fast, Easy and organic   \n",
       "1               \"Delight\" says it all   \n",
       "2  Awesome service and great products   \n",
       "\n",
       "                                                Text  \n",
       "0  For speed and wholesome goodness, Annie's can ...  \n",
       "1  This is a confection that has been around a fe...  \n",
       "2  We sent this product as a gift to my husband's...  "
      ]
     },
     "execution_count": 5,
     "metadata": {},
     "output_type": "execute_result"
    }
   ],
   "source": [
    "display= pd.read_sql_query(\"\"\"\n",
    "SELECT *\n",
    "FROM Reviews\n",
    "WHERE Score != 3 AND UserId='ABXLMWJIXXAIN'\n",
    "ORDER BY ProductID\n",
    "\"\"\", con)\n",
    "display.head()"
   ]
  },
  {
   "cell_type": "markdown",
   "metadata": {},
   "source": [
    "From the above output we could observe that For a single UserId there are multiple reviews. So we need to sort the data and\n",
    "delete the duplicate records based on the ProductId and UserId"
   ]
  },
  {
   "cell_type": "code",
   "execution_count": 6,
   "metadata": {},
   "outputs": [],
   "source": [
    "#Sorting data according to ProductId in ascending order\n",
    "sorted_data=filtered_data.sort_values('ProductId', axis=0, ascending=True, inplace=False, \n",
    "                                      kind='quicksort', na_position='last')"
   ]
  },
  {
   "cell_type": "code",
   "execution_count": 7,
   "metadata": {},
   "outputs": [
    {
     "data": {
      "text/plain": [
       "(87775, 10)"
      ]
     },
     "execution_count": 7,
     "metadata": {},
     "output_type": "execute_result"
    }
   ],
   "source": [
    "#Deduplication of entries\n",
    "final=sorted_data.drop_duplicates(subset={\"UserId\",\"ProfileName\",\"Time\",\"Text\"}, keep='first', inplace=False)\n",
    "final.shape"
   ]
  },
  {
   "cell_type": "code",
   "execution_count": 8,
   "metadata": {},
   "outputs": [
    {
     "data": {
      "text/plain": [
       "87.775"
      ]
     },
     "execution_count": 8,
     "metadata": {},
     "output_type": "execute_result"
    }
   ],
   "source": [
    "#Checking to see how much % of data still remains\n",
    "(final['Id'].size*1.0)/(filtered_data['Id'].size*1.0)*100"
   ]
  },
  {
   "cell_type": "markdown",
   "metadata": {},
   "source": [
    "Observation:- It was also seen that in two rows given below the value of HelpfulnessNumerator is greater than HelpfulnessDenominator which is not practically possible hence these two rows too are removed from calcualtions"
   ]
  },
  {
   "cell_type": "code",
   "execution_count": 9,
   "metadata": {},
   "outputs": [
    {
     "data": {
      "text/html": [
       "<div>\n",
       "<style scoped>\n",
       "    .dataframe tbody tr th:only-of-type {\n",
       "        vertical-align: middle;\n",
       "    }\n",
       "\n",
       "    .dataframe tbody tr th {\n",
       "        vertical-align: top;\n",
       "    }\n",
       "\n",
       "    .dataframe thead th {\n",
       "        text-align: right;\n",
       "    }\n",
       "</style>\n",
       "<table border=\"1\" class=\"dataframe\">\n",
       "  <thead>\n",
       "    <tr style=\"text-align: right;\">\n",
       "      <th></th>\n",
       "      <th>Id</th>\n",
       "      <th>ProductId</th>\n",
       "      <th>UserId</th>\n",
       "      <th>ProfileName</th>\n",
       "      <th>HelpfulnessNumerator</th>\n",
       "      <th>HelpfulnessDenominator</th>\n",
       "      <th>Score</th>\n",
       "      <th>Time</th>\n",
       "      <th>Summary</th>\n",
       "      <th>Text</th>\n",
       "    </tr>\n",
       "  </thead>\n",
       "  <tbody>\n",
       "    <tr>\n",
       "      <th>0</th>\n",
       "      <td>64422</td>\n",
       "      <td>B000MIDROQ</td>\n",
       "      <td>A161DK06JJMCYF</td>\n",
       "      <td>J. E. Stephens \"Jeanne\"</td>\n",
       "      <td>3</td>\n",
       "      <td>1</td>\n",
       "      <td>5</td>\n",
       "      <td>1224892800</td>\n",
       "      <td>Bought This for My Son at College</td>\n",
       "      <td>My son loves spaghetti so I didn't hesitate or...</td>\n",
       "    </tr>\n",
       "    <tr>\n",
       "      <th>1</th>\n",
       "      <td>44737</td>\n",
       "      <td>B001EQ55RW</td>\n",
       "      <td>A2V0I904FH7ABY</td>\n",
       "      <td>Ram</td>\n",
       "      <td>3</td>\n",
       "      <td>2</td>\n",
       "      <td>4</td>\n",
       "      <td>1212883200</td>\n",
       "      <td>Pure cocoa taste with crunchy almonds inside</td>\n",
       "      <td>It was almost a 'love at first bite' - the per...</td>\n",
       "    </tr>\n",
       "  </tbody>\n",
       "</table>\n",
       "</div>"
      ],
      "text/plain": [
       "      Id   ProductId          UserId              ProfileName  \\\n",
       "0  64422  B000MIDROQ  A161DK06JJMCYF  J. E. Stephens \"Jeanne\"   \n",
       "1  44737  B001EQ55RW  A2V0I904FH7ABY                      Ram   \n",
       "\n",
       "   HelpfulnessNumerator  HelpfulnessDenominator  Score        Time  \\\n",
       "0                     3                       1      5  1224892800   \n",
       "1                     3                       2      4  1212883200   \n",
       "\n",
       "                                        Summary  \\\n",
       "0             Bought This for My Son at College   \n",
       "1  Pure cocoa taste with crunchy almonds inside   \n",
       "\n",
       "                                                Text  \n",
       "0  My son loves spaghetti so I didn't hesitate or...  \n",
       "1  It was almost a 'love at first bite' - the per...  "
      ]
     },
     "execution_count": 9,
     "metadata": {},
     "output_type": "execute_result"
    }
   ],
   "source": [
    "display= pd.read_sql_query(\"\"\"\n",
    "SELECT *\n",
    "FROM Reviews\n",
    "WHERE Score != 3 AND HelpfulnessNumerator > HelpfulnessDenominator\n",
    "ORDER BY ProductID\n",
    "\"\"\", con)\n",
    "\n",
    "display.head()"
   ]
  },
  {
   "cell_type": "code",
   "execution_count": 10,
   "metadata": {},
   "outputs": [],
   "source": [
    "final=final[final.HelpfulnessNumerator<=final.HelpfulnessDenominator]"
   ]
  },
  {
   "cell_type": "code",
   "execution_count": 11,
   "metadata": {},
   "outputs": [
    {
     "name": "stdout",
     "output_type": "stream",
     "text": [
      "(87773, 10)\n"
     ]
    },
    {
     "data": {
      "text/plain": [
       "1    73592\n",
       "0    14181\n",
       "Name: Score, dtype: int64"
      ]
     },
     "execution_count": 11,
     "metadata": {},
     "output_type": "execute_result"
    }
   ],
   "source": [
    "#Before starting the next phase of preprocessing lets see the number of entries left\n",
    "print(final.shape)\n",
    "\n",
    "score = final['Score']\n",
    "\n",
    "#How many positive and negative reviews are present in our dataset?\n",
    "final['Score'].value_counts()\n"
   ]
  },
  {
   "cell_type": "markdown",
   "metadata": {},
   "source": [
    "# 3. Preprocessing¶"
   ]
  },
  {
   "cell_type": "markdown",
   "metadata": {},
   "source": [
    "## 3.1 Preprocessing Review Text\n",
    "\n",
    "Now that we have finished deduplication our data requires some preprocessing before we go on further with analysis and making the prediction model.\n",
    "\n",
    "Hence in the Preprocessing phase we do the following in the order below:-\n",
    "\n",
    "    Begin by removing the html tags\n",
    "    Remove any punctuations or limited set of special characters like , or . or # etc.\n",
    "    Check if the word is made up of english letters and is not alpha-numeric\n",
    "    Check to see if the length of the word is greater than 2 (as it was researched that there is no adjective in 2-letters)\n",
    "    Convert the word to lowercase\n",
    "    Remove Stopwords\n",
    "    Finally Snowball Stemming the word (it was obsereved to be better than Porter Stemming)\n",
    "\n",
    "After which we collect the words used to describe positive and negative reviews\n",
    " "
   ]
  },
  {
   "cell_type": "code",
   "execution_count": 12,
   "metadata": {},
   "outputs": [
    {
     "name": "stdout",
     "output_type": "stream",
     "text": [
      "==================================================\n",
      "My Frenchbull is only given nylabone's to chew. He has had them since he was 7 weeks old. They are safe for him because he has a strong bite and they don't break off in large pieces that he could choke on. The Dinosaur Chew is perfect because it has so many places to hold and bite.  Dylabone is the only product I buy.\n",
      "==================================================\n"
     ]
    }
   ],
   "source": [
    "sent_100 = final['Text'].values[100]\n",
    "print(\"=\"*50)\n",
    "print(sent_100)\n",
    "print(\"=\"*50)"
   ]
  },
  {
   "cell_type": "code",
   "execution_count": 13,
   "metadata": {},
   "outputs": [],
   "source": [
    "# Cleaning HTML tags\n",
    "def cleanhtml(sentence):\n",
    "    sent = re.sub(r\"http\\S+\", \"\", sentence)\n",
    "    return sent"
   ]
  },
  {
   "cell_type": "code",
   "execution_count": 14,
   "metadata": {},
   "outputs": [],
   "source": [
    "import re\n",
    "\n",
    "def decontracted(phrase):\n",
    "    # specific\n",
    "    phrase = re.sub(r\"won't\", \"will not\", phrase)\n",
    "    phrase = re.sub(r\"can\\'t\", \"can not\", phrase)\n",
    "    # general\n",
    "    phrase = re.sub(r\"n\\'t\", \" not\", phrase)\n",
    "    phrase = re.sub(r\"\\'re\", \" are\", phrase)\n",
    "    phrase = re.sub(r\"\\'s\", \" is\", phrase)\n",
    "    phrase = re.sub(r\"\\'d\", \" would\", phrase)\n",
    "    phrase = re.sub(r\"\\'ll\", \" will\", phrase)\n",
    "    phrase = re.sub(r\"\\'t\", \" not\", phrase)\n",
    "    phrase = re.sub(r\"\\'ve\", \" have\", phrase)\n",
    "    phrase = re.sub(r\"\\'m\", \" am\", phrase)\n",
    "    return phrase"
   ]
  },
  {
   "cell_type": "code",
   "execution_count": 15,
   "metadata": {},
   "outputs": [],
   "source": [
    "#remove words with numbers python: https://stackoverflow.com/a/18082370/4084039\n",
    "def rmwrdswithnumbers(sentence):\n",
    "    sent = re.sub(\"\\S*\\d\\S*\", \"\", sentence).strip()\n",
    "    return sent"
   ]
  },
  {
   "cell_type": "code",
   "execution_count": 16,
   "metadata": {},
   "outputs": [],
   "source": [
    "#remove spacial character: https://stackoverflow.com/a/5843547/4084039\n",
    "def rmspcchar(sentence):\n",
    "    sent = re.sub('[^A-Za-z0-9]+', ' ', sentence)\n",
    "    return sent"
   ]
  },
  {
   "cell_type": "code",
   "execution_count": 17,
   "metadata": {},
   "outputs": [
    {
     "name": "stdout",
     "output_type": "stream",
     "text": [
      "[nltk_data] Downloading package stopwords to\n",
      "[nltk_data]     C:\\Users\\Delhi\\AppData\\Roaming\\nltk_data...\n",
      "[nltk_data]   Package stopwords is already up-to-date!\n"
     ]
    }
   ],
   "source": [
    "nltk.download('stopwords')\n",
    "\n",
    "stopwords = set(stopwords.words('english'))"
   ]
  },
  {
   "cell_type": "code",
   "execution_count": 18,
   "metadata": {},
   "outputs": [
    {
     "name": "stderr",
     "output_type": "stream",
     "text": [
      "100%|██████████████████████████████████| 87773/87773 [00:16<00:00, 5354.64it/s]\n"
     ]
    }
   ],
   "source": [
    "from tqdm import tqdm\n",
    "preprocessed_reviews = []\n",
    "# tqdm is for printing the status bar\n",
    "for sentance in tqdm(final['Text'].values):\n",
    "    sentance = cleanhtml(sentance)\n",
    "    sentance = decontracted(sentance)\n",
    "    sentance = rmwrdswithnumbers(sentance)\n",
    "    sentance = rmspcchar(sentance)\n",
    "    sentance = ' '.join(e.lower() for e in sentance.split() if e.lower() not in stopwords)\n",
    "    preprocessed_reviews.append(sentance.strip())"
   ]
  },
  {
   "cell_type": "code",
   "execution_count": 19,
   "metadata": {},
   "outputs": [
    {
     "data": {
      "text/plain": [
       "'frenchbull given nylabone chew since weeks old safe strong bite break large pieces could choke dinosaur chew perfect many places hold bite dylabone product buy'"
      ]
     },
     "execution_count": 19,
     "metadata": {},
     "output_type": "execute_result"
    }
   ],
   "source": [
    "preprocessed_reviews[100]"
   ]
  },
  {
   "cell_type": "markdown",
   "metadata": {},
   "source": [
    "# 3.2 Preprocessing Review Summary"
   ]
  },
  {
   "cell_type": "code",
   "execution_count": 20,
   "metadata": {},
   "outputs": [
    {
     "name": "stderr",
     "output_type": "stream",
     "text": [
      "100%|█████████████████████████████████| 87773/87773 [00:02<00:00, 35941.02it/s]\n"
     ]
    }
   ],
   "source": [
    "from tqdm import tqdm\n",
    "preprocessed_reviews_summary = []\n",
    "for sentance in tqdm(final['Summary'].values):\n",
    "    sentance = cleanhtml(sentance)\n",
    "    sentance = decontracted(sentance)\n",
    "    sentance = rmwrdswithnumbers(sentance)\n",
    "    sentance = rmspcchar(sentance)\n",
    "    sentance = ' '.join(e.lower() for e in sentance.split() if e.lower() not in stopwords)\n",
    "    preprocessed_reviews_summary.append(sentance.strip())"
   ]
  },
  {
   "cell_type": "code",
   "execution_count": 21,
   "metadata": {},
   "outputs": [
    {
     "data": {
      "text/plain": [
       "'frenchbull dog loves nylabones'"
      ]
     },
     "execution_count": 21,
     "metadata": {},
     "output_type": "execute_result"
    }
   ],
   "source": [
    "preprocessed_reviews_summary[100]"
   ]
  },
  {
   "cell_type": "code",
   "execution_count": 22,
   "metadata": {},
   "outputs": [],
   "source": [
    "# Splitting the data into train, cross validate and test (Train = 60%, CV = 20%, Test = 20%)\n",
    "x_train1, x_test, y_train1, y_test = train_test_split(preprocessed_reviews, score, test_size=0.2, \n",
    "                                                    stratify=None, random_state=0)\n"
   ]
  },
  {
   "cell_type": "code",
   "execution_count": 23,
   "metadata": {},
   "outputs": [],
   "source": [
    "x_train, x_cv, y_train, y_cv = train_test_split(x_train1, y_train1, test_size = 0.25, random_state = 0,\n",
    "                                                       stratify = None)\n"
   ]
  },
  {
   "cell_type": "markdown",
   "metadata": {},
   "source": [
    "# 4. Featurization"
   ]
  },
  {
   "cell_type": "markdown",
   "metadata": {},
   "source": [
    "## 4.1 Bag of Words"
   ]
  },
  {
   "cell_type": "code",
   "execution_count": 24,
   "metadata": {},
   "outputs": [],
   "source": [
    "#Vectorizing the data\n",
    "bow_vect = CountVectorizer()\n",
    "model = bow_vect.fit(x_train)\n",
    "bow_train = model.transform(x_train)\n",
    "bow_cv = bow_vect.transform(x_cv)\n",
    "bow_test = bow_vect.transform(x_test)"
   ]
  },
  {
   "cell_type": "markdown",
   "metadata": {},
   "source": [
    "## 4.2 TFIDF "
   ]
  },
  {
   "cell_type": "code",
   "execution_count": 25,
   "metadata": {},
   "outputs": [],
   "source": [
    "#*******TFIDF********************\n",
    "tfidf = TfidfVectorizer(ngram_range=(1,2))\n",
    "model = tfidf.fit(x_train)\n",
    "tfidf_train = model.transform(x_train)\n",
    "tfidf_cv = model.transform(x_cv)\n",
    "tfidf_test = tfidf.transform(x_test)"
   ]
  },
  {
   "cell_type": "markdown",
   "metadata": {},
   "source": [
    "## 4.3 W2V "
   ]
  },
  {
   "cell_type": "code",
   "execution_count": 27,
   "metadata": {},
   "outputs": [
    {
     "name": "stdout",
     "output_type": "stream",
     "text": [
      "17561\n"
     ]
    }
   ],
   "source": [
    "#********W2V*********************\n",
    "#def w2v(preprocessed_reviews):\n",
    "w2v_words = []\n",
    "for sent in preprocessed_reviews:\n",
    "    w2v_words.append(sent.split())\n",
    "\n",
    "w2v = Word2Vec(w2v_words, min_count=5, size=50, workers=4)\n",
    "w2v_words_list = list(w2v.wv.vocab)\n",
    "print(len(w2v_words_list))"
   ]
  },
  {
   "cell_type": "markdown",
   "metadata": {},
   "source": [
    "## 4.3.1 Average W2V "
   ]
  },
  {
   "cell_type": "code",
   "execution_count": 28,
   "metadata": {},
   "outputs": [
    {
     "name": "stderr",
     "output_type": "stream",
     "text": [
      "100%|██████████| 87773/87773 [19:47<00:00, 73.93it/s] \n"
     ]
    },
    {
     "name": "stdout",
     "output_type": "stream",
     "text": [
      "87773\n",
      "17555\n"
     ]
    }
   ],
   "source": [
    "#********AvgW2V******************\n",
    "#def Avgw2v(preprocessed_reviews):\n",
    "avg_w2vs = []\n",
    "for sent in tqdm(preprocessed_reviews):\n",
    "    #initializing number of words\n",
    "    n_words = 0\n",
    "    #initializing vector of size of 50\n",
    "    sent_vec = np.zeros(50)\n",
    "    for word in sent.split():\n",
    "        if word in w2v_words_list:\n",
    "            #creating for each word is an vector\n",
    "            vec = w2v.wv[word]\n",
    "            sent_vec += vec\n",
    "            n_words += 1\n",
    "#if n_words != 0:\n",
    "    sent_vec /= n_words\n",
    "    avg_w2vs.append(sent_vec)\n",
    "\n",
    "avg_w2vs = np.array(avg_w2vs)\n",
    "    #return avg_w2vs\n",
    "print(len(avg_w2vs))\n",
    "print(len(x_test))"
   ]
  },
  {
   "cell_type": "code",
   "execution_count": 29,
   "metadata": {},
   "outputs": [
    {
     "data": {
      "text/plain": [
       "False"
      ]
     },
     "execution_count": 29,
     "metadata": {},
     "output_type": "execute_result"
    }
   ],
   "source": [
    "np.isnan(avg_w2vs).any()"
   ]
  },
  {
   "cell_type": "code",
   "execution_count": 30,
   "metadata": {},
   "outputs": [
    {
     "name": "stdout",
     "output_type": "stream",
     "text": [
      "(87773, 50)\n",
      "(87773,)\n"
     ]
    }
   ],
   "source": [
    "mask = ~np.any(np.isnan(avg_w2vs), axis=1)\n",
    "avg_w2vs_new = avg_w2vs[mask]\n",
    "final_new = final['Score'][mask]\n",
    "print(avg_w2vs_new.shape)\n",
    "print(final_new.shape)"
   ]
  },
  {
   "cell_type": "code",
   "execution_count": 32,
   "metadata": {},
   "outputs": [
    {
     "name": "stdout",
     "output_type": "stream",
     "text": [
      "(17555, 50)\n",
      "(17555,)\n"
     ]
    }
   ],
   "source": [
    "#Splitting into train and test\n",
    "avg_w2v_train1, avg_w2v_test, y_train1, y_test_avg = train_test_split(avg_w2vs_new, final_new, test_size=0.2, \n",
    "                                                                  stratify=None, random_state=0)\n",
    "print(avg_w2v_test.shape)\n",
    "print(y_test.shape)\n",
    "avg_w2v_train, avg_w2v_cv, y_train_avg, y_cv_avg = train_test_split(avg_w2v_train1, y_train1, test_size=0.25, \n",
    "                                                                  stratify=None, random_state=0)"
   ]
  },
  {
   "cell_type": "markdown",
   "metadata": {},
   "source": [
    "## 4.3.2 Tfidf W2V "
   ]
  },
  {
   "cell_type": "code",
   "execution_count": 33,
   "metadata": {},
   "outputs": [],
   "source": [
    "tfidf_vect = TfidfVectorizer(ngram_range=(1,2), min_df = 10, max_features = 5000)\n",
    "tfidf = tfidf_vect.fit_transform(preprocessed_reviews)\n",
    "# we are converting a dictionary with word as a key, and the idf as a value\n",
    "dictionary = dict(zip(tfidf_vect.get_feature_names(), list(tfidf_vect.idf_)))"
   ]
  },
  {
   "cell_type": "code",
   "execution_count": 34,
   "metadata": {},
   "outputs": [
    {
     "name": "stderr",
     "output_type": "stream",
     "text": [
      "100%|██████████| 87773/87773 [25:26<00:00, 57.51it/s] \n"
     ]
    },
    {
     "name": "stdout",
     "output_type": "stream",
     "text": [
      "87773\n"
     ]
    }
   ],
   "source": [
    "#*********TfidfW2V*******************\n",
    "#def tfidfw2v(preprocessed_reviews):\n",
    "features = tfidf_vect.get_feature_names()\n",
    "tfidf_w2vs = []\n",
    "row = 0\n",
    "for sent in tqdm(preprocessed_reviews):\n",
    "    sent_vec = np.zeros(50)\n",
    "    tfidf_sum = 0\n",
    "    for word in sent.split():\n",
    "        if(word in w2v_words_list and word in features):\n",
    "            vec = w2v.wv[word]\n",
    "            #tfidf_value = tfidf[row, features.index(word)]\n",
    "            tfidf_value = dictionary[word]*(sent.count(word)/len(sent))\n",
    "            sent_vec += (vec * tfidf_value)\n",
    "            tfidf_sum += tfidf_value\n",
    "    #if(tfidf_sum != 0):\n",
    "    sent_vec /= tfidf_sum\n",
    "    tfidf_w2vs.append(sent_vec)\n",
    "    #row += 1\n",
    "tfidf_w2vs = np.array(tfidf_w2vs)\n",
    "print(len(tfidf_w2vs))\n",
    "#  return tfidf_w2vs"
   ]
  },
  {
   "cell_type": "code",
   "execution_count": 35,
   "metadata": {},
   "outputs": [
    {
     "name": "stdout",
     "output_type": "stream",
     "text": [
      "(87773, 50)\n",
      "(87773,)\n"
     ]
    }
   ],
   "source": [
    "mask = ~np.any(np.isnan(tfidf_w2vs), axis=1)\n",
    "tfidf_w2vs_new = tfidf_w2vs[mask]\n",
    "final_new = final['Score'][mask]\n",
    "print(tfidf_w2vs_new.shape)\n",
    "print(final_new.shape)"
   ]
  },
  {
   "cell_type": "code",
   "execution_count": 46,
   "metadata": {},
   "outputs": [],
   "source": [
    "tfidf_w2v_train1, xtf_w2v_test, score_tr_tfidf1, ytf_w2v_test = train_test_split(tfidf_w2vs_new, final_new,\n",
    "                                                                                 test_size=0.2, stratify=None, random_state=0)\n",
    "xtf_w2v_train, xtf_w2v_cv, ytf_w2v_train, ytf_w2v_cv = train_test_split(tfidf_w2v_train1, score_tr_tfidf1, \n",
    "                                                                        test_size=0.25, stratify=None, random_state=0)                                                                                    "
   ]
  },
  {
   "cell_type": "code",
   "execution_count": 26,
   "metadata": {},
   "outputs": [],
   "source": [
    "#def gridsearch cv for Logistic regression with L1 regularization\n",
    "def log_reg_train(x_train, y_train, pl):\n",
    "    train_auc = []\n",
    "    C = [0.0001, 0.001, 0.01, 0.1, 1, 10, 100, 1000, 10000]\n",
    "    for i in C:\n",
    "        log_model = LogisticRegression(C = i, penalty = pl)\n",
    "        log_model.fit(x_train, y_train)\n",
    "        pred_train = log_model.predict_proba(x_train)[:,1]\n",
    "        train_auc.append(roc_auc_score(y_train,pred_train))\n",
    "        print(\"for C = {0} the roc_auc_score is {1}\". format(i, roc_auc_score(y_train,pred_train)))\n",
    "    optimal_C = C[train_auc.index(max(train_auc))]\n",
    "    return train_auc, optimal_C"
   ]
  },
  {
   "cell_type": "code",
   "execution_count": 27,
   "metadata": {},
   "outputs": [],
   "source": [
    "def log_reg_cv(x_cv, y_cv, x_train, y_train, pl):\n",
    "    cv_auc = []\n",
    "    C = [0.0001, 0.001, 0.01, 0.1, 1, 10, 100, 1000, 10000]\n",
    "    for i in C:\n",
    "        model_cv = LogisticRegression(C = i, penalty = pl)\n",
    "        model_cv.fit(x_train, y_train)\n",
    "        pred_cv = model_cv.predict_proba(x_cv)[:,1]\n",
    "        cv_auc.append(roc_auc_score(y_cv, pred_cv))\n",
    "        print(\"for C = {0} the roc_auc_score is {1}\". format(i, roc_auc_score(y_cv, pred_cv)))\n",
    "    optimal_C_CV = C[cv_auc.index(max(cv_auc))]\n",
    "    return cv_auc, optimal_C_CV"
   ]
  },
  {
   "cell_type": "code",
   "execution_count": 49,
   "metadata": {},
   "outputs": [],
   "source": [
    "def param_tune(x_train, y_train, x_test, y_test, param, pl):\n",
    "    lr = LogisticRegression(penalty = pl,C=param)\n",
    "    lr.fit(x_train, y_train)\n",
    "    pred = lr.predict(x_test)\n",
    "    print('For C = {0} the area under AUC curve is = {1}\\n'.format(param,roc_auc_score(y_test, pred)))\n",
    "    return pred"
   ]
  },
  {
   "cell_type": "code",
   "execution_count": 50,
   "metadata": {},
   "outputs": [],
   "source": [
    "def roc_curve(y_test, pred):\n",
    "    #fpr1, tpr1, threshold1 = metrics.roc_curve(y_train1, lr.predict_proba(x_train)[:,1])\n",
    "    fpr, tpr, threshold = metrics.roc_curve(y_test, pred)\n",
    "\n",
    "    roc_auc = metrics.auc(fpr, tpr)\n",
    "    #roc_auc1 = metrics.auc(fpr1, tpr1)\n",
    "\n",
    "    plt.title(\"ROC Curve\")\n",
    "    plt.plot(fpr, tpr, 'b', label = 'ROC_test')\n",
    "    #plt.plot(fpr1, tpr1, 'g', label = 'ROC_train')\n",
    "    plt.legend(loc = 'lower right')\n",
    "    plt.plot([0, 1], [0, 1],'r--')\n",
    "    plt.xlim([0, 1])\n",
    "    plt.ylim([0, 1])\n",
    "    plt.ylabel('True Positive Rate')\n",
    "    plt.xlabel('False Positive Rate')\n",
    "    plt.show()"
   ]
  },
  {
   "cell_type": "code",
   "execution_count": 111,
   "metadata": {},
   "outputs": [],
   "source": [
    "def ploting_train_cv(C, train_auc, cv_auc):\n",
    "    C = np.log(np.array(C))\n",
    "    plt.plot(C, cv_auc, label = 'cv_auc')\n",
    "    plt.plot(C, train_auc, label = 'train_auc')\n",
    "    plt.xlabel('hyperparameter')\n",
    "    plt.ylabel('area under AUC curve')\n",
    "    plt.title(\"Train AUC vs Validate AUC\")\n",
    "    plt.grid()\n",
    "    plt.legend()\n",
    "    plt.show()"
   ]
  },
  {
   "cell_type": "code",
   "execution_count": 52,
   "metadata": {},
   "outputs": [],
   "source": [
    "#def confusion_matrix()\n",
    "def confus_mat(y_test, pred):\n",
    "    co_mt = confusion_matrix(y_test,pred)\n",
    "    class_label = ['negative', 'positive']\n",
    "    df_conf_matrix = pd.DataFrame(co_mt, index=class_label, columns=class_label)\n",
    "    sns.heatmap(df_conf_matrix, annot=True, fmt='d')\n",
    "    plt.title(\"Confusion Matrix\")\n",
    "    plt.xlabel(\"Predicted\")\n",
    "    plt.ylabel(\"Actual\")\n",
    "    plt.show()"
   ]
  },
  {
   "cell_type": "code",
   "execution_count": 168,
   "metadata": {},
   "outputs": [],
   "source": [
    "#definition for top features \n",
    "def topfeatures(vectorizer):\n",
    "    features = vectorizer.get_feature_names()\n",
    "    coef_of_feat = sorted(zip(clf.coef_[0],features))\n",
    "    print(\"Top 10 positive important features\")\n",
    "    for a in coef_of_feat[-10:]:\n",
    "        print(a)\n",
    "    print(\"-\"*100)\n",
    "    print(\"Top 10 negative important features:\")\n",
    "    print(\"-\"*100)\n",
    "    for a in coef_of_feat[:10]:\n",
    "        print(a)"
   ]
  },
  {
   "cell_type": "markdown",
   "metadata": {},
   "source": [
    "# Applying Logistic Regression"
   ]
  },
  {
   "cell_type": "markdown",
   "metadata": {},
   "source": [
    "## 5.1 Applying Logistic Regression on BOW "
   ]
  },
  {
   "cell_type": "code",
   "execution_count": 66,
   "metadata": {},
   "outputs": [],
   "source": [
    "\n",
    "from sklearn import preprocessing\n",
    "std_train_bow = preprocessing.normalize(bow_train)\n",
    "std_cv_bow = preprocessing.normalize(bow_cv)\n",
    "std_test_bow = preprocessing.normalize(bow_test)"
   ]
  },
  {
   "cell_type": "markdown",
   "metadata": {},
   "source": [
    "### 5.1.1 Applying Logistic Regression with L1 regularization on BOW "
   ]
  },
  {
   "cell_type": "code",
   "execution_count": 79,
   "metadata": {},
   "outputs": [
    {
     "name": "stdout",
     "output_type": "stream",
     "text": [
      "for C = 0.0001 the roc_auc_score is 0.5\n",
      "for C = 0.001 the roc_auc_score is 0.5\n",
      "for C = 0.01 the roc_auc_score is 0.7215193091414618\n",
      "for C = 0.1 the roc_auc_score is 0.8988560195955994\n",
      "for C = 1 the roc_auc_score is 0.9550518617415518\n",
      "for C = 10 the roc_auc_score is 0.9908537111072849\n",
      "for C = 100 the roc_auc_score is 0.9997372348358033\n",
      "for C = 1000 the roc_auc_score is 0.9999999880734164\n",
      "for C = 10000 the roc_auc_score is 0.9999999933741203\n"
     ]
    }
   ],
   "source": [
    "#calling logistic regression using Hyperparameter and L1 regularization on train data\n",
    "pl = 'l1'\n",
    "train_auc, optimal_C = log_reg_train(std_train_bow, y_train, pl)"
   ]
  },
  {
   "cell_type": "code",
   "execution_count": 80,
   "metadata": {},
   "outputs": [
    {
     "data": {
      "text/plain": [
       "10000"
      ]
     },
     "execution_count": 80,
     "metadata": {},
     "output_type": "execute_result"
    }
   ],
   "source": [
    "optimal_C"
   ]
  },
  {
   "cell_type": "code",
   "execution_count": 81,
   "metadata": {},
   "outputs": [
    {
     "name": "stdout",
     "output_type": "stream",
     "text": [
      "for C = 0.0001 the roc_auc_score is 0.5\n",
      "for C = 0.001 the roc_auc_score is 0.5\n",
      "for C = 0.01 the roc_auc_score is 0.7144944513042818\n",
      "for C = 0.1 the roc_auc_score is 0.8968599670501105\n",
      "for C = 1 the roc_auc_score is 0.9429325139354986\n",
      "for C = 10 the roc_auc_score is 0.9411285720934044\n",
      "for C = 100 the roc_auc_score is 0.9081330551204801\n",
      "for C = 1000 the roc_auc_score is 0.8877315996669064\n",
      "for C = 10000 the roc_auc_score is 0.8723481187793288\n"
     ]
    },
    {
     "data": {
      "text/plain": [
       "1"
      ]
     },
     "execution_count": 81,
     "metadata": {},
     "output_type": "execute_result"
    }
   ],
   "source": [
    "pl = 'l1'\n",
    "cv_auc, optimal_C_CV = log_reg_cv(std_cv_bow, y_cv, std_train_bow, y_train, pl)\n",
    "optimal_C_CV"
   ]
  },
  {
   "cell_type": "markdown",
   "metadata": {},
   "source": [
    "### From the above we can see that highest AUC score is for alpha = 1, there by we will consdier it as our best alpha."
   ]
  },
  {
   "cell_type": "code",
   "execution_count": 112,
   "metadata": {},
   "outputs": [
    {
     "data": {
      "image/png": "[encoded data removed]",
      "text/plain": [
       "<Figure size 432x288 with 1 Axes>"
      ]
     },
     "metadata": {},
     "output_type": "display_data"
    }
   ],
   "source": [
    "# plotting the acu and roc curves\n",
    "C = [0.0001, 0.001, 0.01, 0.1, 1, 10, 100, 1000, 10000]\n",
    "ploting_train_cv(C, train_auc, cv_auc)"
   ]
  },
  {
   "cell_type": "code",
   "execution_count": 83,
   "metadata": {},
   "outputs": [
    {
     "name": "stdout",
     "output_type": "stream",
     "text": [
      "For C = 1 the area under AUC curve is = 0.7963561429018273\n",
      "\n"
     ]
    }
   ],
   "source": [
    "# Hyperparameter tunning with best C again on train data and get AUC on test data \n",
    "# from the above we can say that best c is 5\n",
    "C = optimal_C_CV\n",
    "pl = 'l1'\n",
    "pred = param_tune(std_train_bow, y_train, std_test_bow, y_test, C, pl)"
   ]
  },
  {
   "cell_type": "markdown",
   "metadata": {},
   "source": [
    "### For optimal alpha 1 the area under AUC curve is 79.63. "
   ]
  },
  {
   "cell_type": "code",
   "execution_count": 84,
   "metadata": {},
   "outputs": [
    {
     "data": {
      "image/png": "[encoded data removed]",
      "text/plain": [
       "<Figure size 432x288 with 1 Axes>"
      ]
     },
     "metadata": {},
     "output_type": "display_data"
    }
   ],
   "source": [
    "roc_curve(y_test, pred)"
   ]
  },
  {
   "cell_type": "markdown",
   "metadata": {},
   "source": [
    "### As our ROC curve is above the diagnol line, we can consider it as a better simple linear model"
   ]
  },
  {
   "cell_type": "code",
   "execution_count": 85,
   "metadata": {},
   "outputs": [
    {
     "data": {
      "image/png": "[encoded data removed]",
      "text/plain": [
       "<Figure size 432x288 with 2 Axes>"
      ]
     },
     "metadata": {},
     "output_type": "display_data"
    }
   ],
   "source": [
    "confus_mat(y_test, pred)"
   ]
  },
  {
   "cell_type": "code",
   "execution_count": 86,
   "metadata": {},
   "outputs": [
    {
     "name": "stdout",
     "output_type": "stream",
     "text": [
      "for C = 0.0001 the roc_auc_score is 0.648639003480829\n",
      "for C = 0.001 the roc_auc_score is 0.8492247678269202\n",
      "for C = 0.01 the roc_auc_score is 0.8775853195587336\n",
      "for C = 0.1 the roc_auc_score is 0.9255010952764775\n",
      "for C = 1 the roc_auc_score is 0.9593354373522988\n",
      "for C = 10 the roc_auc_score is 0.9817885269584227\n",
      "for C = 100 the roc_auc_score is 0.995773599105746\n",
      "for C = 1000 the roc_auc_score is 0.9994523803136462\n",
      "for C = 10000 the roc_auc_score is 0.9998916019322189\n"
     ]
    },
    {
     "data": {
      "text/plain": [
       "10000"
      ]
     },
     "execution_count": 86,
     "metadata": {},
     "output_type": "execute_result"
    }
   ],
   "source": [
    "pl = 'l2'\n",
    "train_auc, optimal_C = log_reg_train(std_train_bow, y_train, pl)\n",
    "optimal_C"
   ]
  },
  {
   "cell_type": "code",
   "execution_count": 87,
   "metadata": {},
   "outputs": [
    {
     "name": "stdout",
     "output_type": "stream",
     "text": [
      "for C = 0.0001 the roc_auc_score is 0.6467634170922233\n",
      "for C = 0.001 the roc_auc_score is 0.8454947579323745\n",
      "for C = 0.01 the roc_auc_score is 0.8752810393176689\n",
      "for C = 0.1 the roc_auc_score is 0.9193879262176637\n",
      "for C = 1 the roc_auc_score is 0.9441152569919414\n",
      "for C = 10 the roc_auc_score is 0.948699303256641\n",
      "for C = 100 the roc_auc_score is 0.9388740394918719\n",
      "for C = 1000 the roc_auc_score is 0.9176298911479988\n",
      "for C = 10000 the roc_auc_score is 0.8989573357516405\n"
     ]
    },
    {
     "data": {
      "text/plain": [
       "10"
      ]
     },
     "execution_count": 87,
     "metadata": {},
     "output_type": "execute_result"
    }
   ],
   "source": [
    "pl = 'l2'\n",
    "cv_auc, optimal_C_CV = log_reg_cv(std_cv_bow, y_cv, std_train_bow, y_train, pl)\n",
    "optimal_C_CV"
   ]
  },
  {
   "cell_type": "markdown",
   "metadata": {},
   "source": [
    "### With l2 regularization, the best alpha on BOW is 10. So we will consider it as our optimal alpha "
   ]
  },
  {
   "cell_type": "code",
   "execution_count": 113,
   "metadata": {},
   "outputs": [
    {
     "data": {
      "image/png": "[encoded data removed]",
      "text/plain": [
       "<Figure size 432x288 with 1 Axes>"
      ]
     },
     "metadata": {},
     "output_type": "display_data"
    }
   ],
   "source": [
    "C = [0.0001, 0.001, 0.01, 0.1, 1, 10, 100, 1000, 10000]\n",
    "ploting_train_cv(C, train_auc, cv_auc)"
   ]
  },
  {
   "cell_type": "code",
   "execution_count": 89,
   "metadata": {},
   "outputs": [
    {
     "name": "stdout",
     "output_type": "stream",
     "text": [
      "For C = 10 the area under AUC curve is = 0.8223141281193748\n",
      "\n"
     ]
    },
    {
     "data": {
      "text/plain": [
       "array([1, 1, 0, ..., 1, 1, 0])"
      ]
     },
     "execution_count": 89,
     "metadata": {},
     "output_type": "execute_result"
    }
   ],
   "source": [
    "C = optimal_C_CV\n",
    "pl = 'l2'\n",
    "param_tune(std_train_bow, y_train, std_test_bow, y_test, C, pl)"
   ]
  },
  {
   "cell_type": "code",
   "execution_count": 90,
   "metadata": {},
   "outputs": [
    {
     "data": {
      "image/png": "[encoded data removed]",
      "text/plain": [
       "<Figure size 432x288 with 1 Axes>"
      ]
     },
     "metadata": {},
     "output_type": "display_data"
    },
    {
     "data": {
      "text/plain": [
       "array([1, 1, 0, ..., 1, 1, 0])"
      ]
     },
     "execution_count": 90,
     "metadata": {},
     "output_type": "execute_result"
    }
   ],
   "source": [
    "roc_curve(y_test, pred)\n",
    "pred"
   ]
  },
  {
   "cell_type": "markdown",
   "metadata": {},
   "source": [
    "### As our ROC curve is above the diagnol line, we can consider it as a better simple linear model "
   ]
  },
  {
   "cell_type": "code",
   "execution_count": 91,
   "metadata": {},
   "outputs": [
    {
     "data": {
      "image/png": "[encoded data removed]",
      "text/plain": [
       "<Figure size 432x288 with 2 Axes>"
      ]
     },
     "metadata": {},
     "output_type": "display_data"
    }
   ],
   "source": [
    "confus_mat(y_test, pred)"
   ]
  },
  {
   "cell_type": "markdown",
   "metadata": {},
   "source": [
    "## Calculating sparsity on weight vector obtained using L1 regularization on BOW "
   ]
  },
  {
   "cell_type": "code",
   "execution_count": 156,
   "metadata": {},
   "outputs": [],
   "source": [
    "#Funtion for number of non zero elements\n",
    "def nonzero_elements(x_train, y_train):\n",
    "    C = [10000, 1000, 100, 10, 1, 0.1, 0.01, 0.001, 0.0001] \n",
    "    for i in C:\n",
    "        clf = LogisticRegression(penalty = 'l1', C = i)\n",
    "        clf.fit(x_train,y_train)\n",
    "        #getting the optimal 'W'\n",
    "        opt_w = clf.coef_\n",
    "        print(\"Number of non-zero elements in optimal vector for C = {} and L1 reg is {}:\".\n",
    "                  format(i, np.count_nonzero(opt_w)))\n",
    "        if np.count_nonzero(opt_w) == 0:\n",
    "            break"
   ]
  },
  {
   "cell_type": "code",
   "execution_count": 157,
   "metadata": {},
   "outputs": [
    {
     "name": "stdout",
     "output_type": "stream",
     "text": [
      "Number of non-zero elements in optimal vector for C = 10000 and L1 reg is 12661:\n",
      "Number of non-zero elements in optimal vector for C = 1000 and L1 reg is 11374:\n",
      "Number of non-zero elements in optimal vector for C = 100 and L1 reg is 10805:\n",
      "Number of non-zero elements in optimal vector for C = 10 and L1 reg is 6964:\n",
      "Number of non-zero elements in optimal vector for C = 1 and L1 reg is 1335:\n",
      "Number of non-zero elements in optimal vector for C = 0.1 and L1 reg is 179:\n",
      "Number of non-zero elements in optimal vector for C = 0.01 and L1 reg is 7:\n",
      "Number of non-zero elements in optimal vector for C = 0.001 and L1 reg is 0:\n"
     ]
    }
   ],
   "source": [
    "#To find number of non_zero elements with the C=1000 and l1_reg\n",
    "nonzero_elements(std_train_bow, y_train)"
   ]
  },
  {
   "cell_type": "markdown",
   "metadata": {},
   "source": [
    "### We can see how drastically the sparsity decreases from 12661 non-zero weights(@ C=1000) to only 0 non-zero weights(@ C=0.001) when we use L1 Regularization"
   ]
  },
  {
   "cell_type": "markdown",
   "metadata": {},
   "source": [
    "## Performing pertubation test (multicollinearity check) on BOW"
   ]
  },
  {
   "cell_type": "code",
   "execution_count": 96,
   "metadata": {},
   "outputs": [
    {
     "name": "stdout",
     "output_type": "stream",
     "text": [
      "[-1.18617376e+00  9.92405009e-01  3.37706995e-02  1.05196718e-03\n",
      "  8.43356590e-03 -3.53108422e-01  4.53948259e-03  3.47685490e-03\n",
      "  3.55078010e-04 -2.84354469e-01  5.36137672e-01  4.50926366e-04\n",
      "  6.42559492e-01 -9.85310319e-02  2.14444569e-03  2.13834120e-01\n",
      "  1.08283770e-02  1.45042569e-02 -2.91300428e-01  7.13189772e-02\n",
      "  1.53550793e-02  5.10015695e-01 -4.56881345e-01  4.04856197e-01\n",
      "  1.65963563e-01  1.95290376e-02  7.65289172e-03  5.83585986e-02\n",
      "  2.37097563e-01  7.53067941e-01]\n",
      "(40668,)\n"
     ]
    }
   ],
   "source": [
    "#Pertubation test\n",
    "clf = LogisticRegression(penalty='l2', C=10)\n",
    "clf.fit(std_train_bow, y_train)\n",
    "# Weight before adding noise\n",
    "weights = find(clf.coef_[0])[2]\n",
    "print(weights[:30])\n",
    "print(weights.shape)"
   ]
  },
  {
   "cell_type": "code",
   "execution_count": 97,
   "metadata": {},
   "outputs": [
    {
     "name": "stdout",
     "output_type": "stream",
     "text": [
      "(52663, 40668)\n",
      "(52663, 40668)\n"
     ]
    }
   ],
   "source": [
    "bow_tr = std_train_bow\n",
    "print(std_train_bow.shape)\n",
    "\n",
    "epsilon = random.normal(0, 0.1, find(bow_tr)[0].size)\n",
    "#Addling epsilon to new BOW vectorizer\n",
    "a,b,c = find(bow_tr)\n",
    "bow_tr[a,b] = epsilon + bow_tr[a,b]\n",
    "print(bow_tr.shape)"
   ]
  },
  {
   "cell_type": "code",
   "execution_count": 98,
   "metadata": {},
   "outputs": [
    {
     "name": "stdout",
     "output_type": "stream",
     "text": [
      "[-1.56413449e+00  7.39288270e-01  6.92746061e-02  8.78640905e-03\n",
      "  1.81698501e-01 -4.70251510e-01  1.12602173e-01  4.60161320e-03\n",
      "  1.19122913e-03 -5.49828585e-01  5.92132793e-01  6.68731022e-03\n",
      " -1.58659365e+00  4.25155574e-02  1.63368492e-03  1.18008491e-01\n",
      "  1.91076435e-02  1.00299953e-02 -6.17249508e-01  2.45296813e-01\n",
      "  8.60620704e-02  7.13138891e-01 -8.49608215e-01  1.67864115e-02\n",
      " -1.24463650e-03 -3.32292489e-02 -2.38627581e-02  7.01496329e-01\n",
      "  6.68031516e-01  1.58520335e+00]\n",
      "(40668,)\n"
     ]
    }
   ],
   "source": [
    "#Finding the Weights after adding noise\n",
    "clf1 = LogisticRegression(penalty='l2', C=10)\n",
    "clf1.fit(bow_tr, y_train)\n",
    "weights1 = find(clf1.coef_[0])[2]\n",
    "print(weights1[:30])\n",
    "print(weights1.shape)"
   ]
  },
  {
   "cell_type": "code",
   "execution_count": 99,
   "metadata": {},
   "outputs": [
    {
     "data": {
      "text/plain": [
       "array([ -31.86385835,   25.50538709,  105.13228087, ..., -196.28723038,\n",
       "         63.09007674,  102.58903876])"
      ]
     },
     "execution_count": 99,
     "metadata": {},
     "output_type": "execute_result"
    }
   ],
   "source": [
    "#Calculating the differences\n",
    "weight_diff = (abs(weights - weights1) / weights) * 100\n",
    "weight_diff"
   ]
  },
  {
   "cell_type": "code",
   "execution_count": 100,
   "metadata": {},
   "outputs": [
    {
     "name": "stdout",
     "output_type": "stream",
     "text": [
      "The 0th percentile is: -208534.9145260873\n",
      "The 10th percentile is: -132.97163099659826\n",
      "The 20th percentile is: -45.63319028830351\n",
      "The 30th percentile is: 0.5365651535727203\n",
      "The 40th percentile is: 21.823196161977542\n",
      "The 50th percentile is: 43.994384787714196\n",
      "The 60th percentile is: 68.73330094376341\n",
      "The 70th percentile is: 96.689787785898\n",
      "The 80th percentile is: 155.5992325960517\n",
      "The 90th percentile is: 347.51246343121414\n",
      "The 100th percentile is: 155125.39992630747\n"
     ]
    }
   ],
   "source": [
    "# Computing percentile\n",
    "def percentile(low,high,step,weights):\n",
    "    for i in np.arange(low,high,step):\n",
    "        print('The {}th percentile is: {}'.format(i,np.percentile(weights,i)))\n",
    "percentile(0,110,10,weight_diff)"
   ]
  },
  {
   "cell_type": "markdown",
   "metadata": {},
   "source": [
    "### From the above we can observe that there is a drastic change  after 90th percentile to 100th percentile. So we will further calculate percentile between 90 and 100"
   ]
  },
  {
   "cell_type": "code",
   "execution_count": 101,
   "metadata": {},
   "outputs": [
    {
     "name": "stdout",
     "output_type": "stream",
     "text": [
      "The 90.0th percentile is: 347.51246343121414\n",
      "The 91.0th percentile is: 387.9395702980556\n",
      "The 92.0th percentile is: 436.84132162840365\n",
      "The 93.0th percentile is: 495.3053801259455\n",
      "The 94.0th percentile is: 574.5746660545021\n",
      "The 95.0th percentile is: 691.3356465043448\n",
      "The 96.0th percentile is: 845.7179117049086\n",
      "The 97.0th percentile is: 1098.1515319460377\n",
      "The 98.0th percentile is: 1553.3976296676246\n",
      "The 99.0th percentile is: 2635.2477509900914\n",
      "The 100.0th percentile is: 155125.39992630747\n"
     ]
    }
   ],
   "source": [
    "percentile(90,100.1,1,weight_diff)"
   ]
  },
  {
   "cell_type": "markdown",
   "metadata": {},
   "source": [
    "### From the above we can observe that there is a drastic change after 99th percentile and 100th percentile. So we will further calculate percentile between 98 and 100"
   ]
  },
  {
   "cell_type": "code",
   "execution_count": 102,
   "metadata": {},
   "outputs": [
    {
     "name": "stdout",
     "output_type": "stream",
     "text": [
      "The 98.0th percentile is: 1553.3976296676246\n",
      "The 98.1th percentile is: 1632.9710260018298\n",
      "The 98.19999999999999th percentile is: 1704.1709404140008\n",
      "The 98.29999999999998th percentile is: 1783.3514228937938\n",
      "The 98.39999999999998th percentile is: 1872.738738189481\n",
      "The 98.49999999999997th percentile is: 1965.085299001366\n",
      "The 98.59999999999997th percentile is: 2064.4872592813736\n",
      "The 98.69999999999996th percentile is: 2198.020597762338\n",
      "The 98.79999999999995th percentile is: 2329.738189203434\n",
      "The 98.89999999999995th percentile is: 2484.2148947127075\n",
      "The 98.99999999999994th percentile is: 2635.2477509900277\n",
      "The 99.09999999999994th percentile is: 2884.862691197329\n",
      "The 99.19999999999993th percentile is: 3179.7870355330265\n",
      "The 99.29999999999993th percentile is: 3567.2777808647807\n",
      "The 99.39999999999992th percentile is: 3969.9412660083294\n",
      "The 99.49999999999991th percentile is: 4679.560343119921\n",
      "The 99.59999999999991th percentile is: 5668.9415274151725\n",
      "The 99.6999999999999th percentile is: 7029.170877514732\n",
      "The 99.7999999999999th percentile is: 9166.58484837589\n",
      "The 99.89999999999989th percentile is: 14682.584810051005\n",
      "The 99.99999999999989th percentile is: 155125.399922738\n"
     ]
    }
   ],
   "source": [
    "percentile(98,100.1,.1,weight_diff)"
   ]
  },
  {
   "cell_type": "markdown",
   "metadata": {},
   "source": [
    "### From the above we can observe that there is a drastic change after 90th percentile to 100th percentile. So we will further calculate percentile between 99.89 and 99.99"
   ]
  },
  {
   "cell_type": "markdown",
   "metadata": {},
   "source": [
    "## Feature Importance on BOW "
   ]
  },
  {
   "cell_type": "code",
   "execution_count": 169,
   "metadata": {},
   "outputs": [
    {
     "name": "stdout",
     "output_type": "stream",
     "text": [
      "Top 10 positive important features\n",
      "(8.372277029737305, 'yummy')\n",
      "(8.407279373288883, 'highly')\n",
      "(8.840612001779103, 'wonderful')\n",
      "(9.281895080122714, 'hooked')\n",
      "(9.343263557620507, 'delicious')\n",
      "(9.518736904824442, 'awesome')\n",
      "(9.64938747465288, 'perfect')\n",
      "(9.69428144779639, 'excellent')\n",
      "(9.723618529034471, 'satisfied')\n",
      "(10.230516309128944, 'amazing')\n",
      "----------------------------------------------------------------------------------------------------\n",
      "Top 10 negative important features:\n",
      "----------------------------------------------------------------------------------------------------\n",
      "(-14.13825487280805, 'worst')\n",
      "(-10.786918352390499, 'disappointment')\n",
      "(-10.363793453554992, 'terrible')\n",
      "(-10.172466310149439, 'hopes')\n",
      "(-10.167543564978656, 'disappointing')\n",
      "(-9.979605827402345, 'awful')\n",
      "(-9.48347656212905, 'died')\n",
      "(-9.47362254796828, 'threw')\n",
      "(-9.402630621774094, 'bland')\n",
      "(-9.30414875136226, 'horrible')\n"
     ]
    }
   ],
   "source": [
    "# Top positive and Negative features \n",
    "topfeatures(bow_vect)"
   ]
  },
  {
   "cell_type": "markdown",
   "metadata": {},
   "source": [
    "# 5.2 Logistic Regression on TFIDF"
   ]
  },
  {
   "cell_type": "code",
   "execution_count": 29,
   "metadata": {},
   "outputs": [
    {
     "name": "stdout",
     "output_type": "stream",
     "text": [
      "(52663, 980946)\n",
      "(17555, 980946)\n",
      "(17555, 980946)\n"
     ]
    }
   ],
   "source": [
    "from sklearn import preprocessing\n",
    "std_tfidf_train = preprocessing.normalize(tfidf_train)\n",
    "std_tfidf_cv = preprocessing.normalize(tfidf_cv)\n",
    "std_tfidf_test = preprocessing.normalize(tfidf_test)\n",
    "print(std_tfidf_train.shape)\n",
    "print(std_tfidf_cv.shape)\n",
    "print(std_tfidf_test.shape)"
   ]
  },
  {
   "cell_type": "markdown",
   "metadata": {},
   "source": [
    "##  5.2.1 Applying Logistic Regression with L1 regularization on TFIDF "
   ]
  },
  {
   "cell_type": "code",
   "execution_count": 107,
   "metadata": {},
   "outputs": [
    {
     "name": "stdout",
     "output_type": "stream",
     "text": [
      "for C = 0.0001 the roc_auc_score is 0.5\n",
      "for C = 0.001 the roc_auc_score is 0.5\n",
      "for C = 0.01 the roc_auc_score is 0.5\n",
      "for C = 0.1 the roc_auc_score is 0.8628121520203901\n",
      "for C = 1 the roc_auc_score is 0.9513367256565561\n",
      "for C = 10 the roc_auc_score is 0.9998667204285251\n",
      "for C = 100 the roc_auc_score is 0.9999999933741202\n",
      "for C = 1000 the roc_auc_score is 0.9999999933741203\n",
      "for C = 10000 the roc_auc_score is 0.9999999933741203\n"
     ]
    },
    {
     "data": {
      "text/plain": [
       "1000"
      ]
     },
     "execution_count": 107,
     "metadata": {},
     "output_type": "execute_result"
    }
   ],
   "source": [
    "pl = 'l1'\n",
    "train_auc, optimal_C = log_reg_train(std_tfidf_train, y_train, pl)\n",
    "optimal_C"
   ]
  },
  {
   "cell_type": "code",
   "execution_count": 31,
   "metadata": {},
   "outputs": [
    {
     "name": "stdout",
     "output_type": "stream",
     "text": [
      "for C = 0.0001 the roc_auc_score is 0.5\n",
      "for C = 0.001 the roc_auc_score is 0.5\n",
      "for C = 0.01 the roc_auc_score is 0.5\n",
      "for C = 0.1 the roc_auc_score is 0.857984035421957\n",
      "for C = 1 the roc_auc_score is 0.9423939716295175\n",
      "for C = 10 the roc_auc_score is 0.9511951500296475\n",
      "for C = 100 the roc_auc_score is 0.9479302069380144\n",
      "for C = 1000 the roc_auc_score is 0.9479284095299934\n",
      "for C = 10000 the roc_auc_score is 0.944350450260425\n"
     ]
    },
    {
     "data": {
      "text/plain": [
       "10"
      ]
     },
     "execution_count": 31,
     "metadata": {},
     "output_type": "execute_result"
    }
   ],
   "source": [
    "pl = 'l1'\n",
    "cv_auc, optimal_C_CV = log_reg_cv(std_tfidf_cv, y_cv, std_tfidf_train, y_train, pl)\n",
    "optimal_C_CV"
   ]
  },
  {
   "cell_type": "code",
   "execution_count": 114,
   "metadata": {},
   "outputs": [
    {
     "data": {
      "image/png": "[encoded data removed]",
      "text/plain": [
       "<Figure size 432x288 with 1 Axes>"
      ]
     },
     "metadata": {},
     "output_type": "display_data"
    }
   ],
   "source": [
    "C = [0.0001, 0.001, 0.01, 0.1, 1, 10, 100, 1000, 10000]\n",
    "ploting_train_cv(C, train_auc, cv_auc)"
   ]
  },
  {
   "cell_type": "markdown",
   "metadata": {},
   "source": [
    "### With l1 regularization, the best alpha on TFIDF is 10. So we will consider it as our optimal alpha"
   ]
  },
  {
   "cell_type": "code",
   "execution_count": 115,
   "metadata": {},
   "outputs": [
    {
     "name": "stdout",
     "output_type": "stream",
     "text": [
      "For C = 10 the area under AUC curve is = 0.8370600906815632\n",
      "\n"
     ]
    }
   ],
   "source": [
    "C = optimal_C_CV\n",
    "pl = 'l1'\n",
    "pred = param_tune(std_tfidf_train, y_train, std_tfidf_test, y_test, C, pl)"
   ]
  },
  {
   "cell_type": "markdown",
   "metadata": {},
   "source": [
    "###  For Tfidf, with alpha = 10 the AUC score is 83.70"
   ]
  },
  {
   "cell_type": "code",
   "execution_count": 116,
   "metadata": {},
   "outputs": [
    {
     "data": {
      "image/png": "[encoded data removed]",
      "text/plain": [
       "<Figure size 432x288 with 1 Axes>"
      ]
     },
     "metadata": {},
     "output_type": "display_data"
    }
   ],
   "source": [
    "roc_curve(y_test, pred)"
   ]
  },
  {
   "cell_type": "markdown",
   "metadata": {},
   "source": [
    "### From the above plotting the ROC curve is well above the diagnol line, which is better then simple linear model"
   ]
  },
  {
   "cell_type": "code",
   "execution_count": 117,
   "metadata": {},
   "outputs": [
    {
     "data": {
      "image/png": "[encoded data removed]",
      "text/plain": [
       "<Figure size 432x288 with 2 Axes>"
      ]
     },
     "metadata": {},
     "output_type": "display_data"
    }
   ],
   "source": [
    "confus_mat(y_test, pred)"
   ]
  },
  {
   "cell_type": "markdown",
   "metadata": {},
   "source": [
    "##  5.2.2 Applying Logistic Regression with L2 regularization on TFIDF "
   ]
  },
  {
   "cell_type": "code",
   "execution_count": 118,
   "metadata": {},
   "outputs": [
    {
     "name": "stdout",
     "output_type": "stream",
     "text": [
      "for C = 0.0001 the roc_auc_score is 0.7005570014020308\n",
      "for C = 0.001 the roc_auc_score is 0.9178625929082849\n",
      "for C = 0.01 the roc_auc_score is 0.9303028411883748\n",
      "for C = 0.1 the roc_auc_score is 0.9518453599915482\n",
      "for C = 1 the roc_auc_score is 0.9881613511235342\n",
      "for C = 10 the roc_auc_score is 0.9999757294024204\n",
      "for C = 100 the roc_auc_score is 0.9999999933741203\n",
      "for C = 1000 the roc_auc_score is 0.9999999933741203\n",
      "for C = 10000 the roc_auc_score is 0.9999999933741203\n"
     ]
    }
   ],
   "source": [
    "pl = 'l2'\n",
    "train_auc, optimal_C = log_reg_train(std_tfidf_train, y_train, pl)"
   ]
  },
  {
   "cell_type": "code",
   "execution_count": 119,
   "metadata": {},
   "outputs": [
    {
     "name": "stdout",
     "output_type": "stream",
     "text": [
      "for C = 0.0001 the roc_auc_score is 0.6845970828164976\n",
      "for C = 0.001 the roc_auc_score is 0.8983176406658804\n",
      "for C = 0.01 the roc_auc_score is 0.9123833057131635\n",
      "for C = 0.1 the roc_auc_score is 0.9290280326669679\n",
      "for C = 1 the roc_auc_score is 0.949713818638033\n",
      "for C = 10 the roc_auc_score is 0.9570669419842356\n",
      "for C = 100 the roc_auc_score is 0.9577728861291497\n",
      "for C = 1000 the roc_auc_score is 0.9576986823250375\n",
      "for C = 10000 the roc_auc_score is 0.9576032253855415\n"
     ]
    },
    {
     "data": {
      "text/plain": [
       "100"
      ]
     },
     "execution_count": 119,
     "metadata": {},
     "output_type": "execute_result"
    }
   ],
   "source": [
    "pl = 'l2'\n",
    "cv_auc, optimal_C_CV = log_reg_cv(std_tfidf_cv, y_cv, std_tfidf_train, y_train, pl)\n",
    "optimal_C_CV"
   ]
  },
  {
   "cell_type": "code",
   "execution_count": 121,
   "metadata": {},
   "outputs": [
    {
     "data": {
      "image/png": "[encoded data removed]",
      "text/plain": [
       "<Figure size 432x288 with 1 Axes>"
      ]
     },
     "metadata": {},
     "output_type": "display_data"
    }
   ],
   "source": [
    "C = [0.0001, 0.001, 0.01, 0.1, 1, 10, 100, 1000, 10000]\n",
    "ploting_train_cv(C, train_auc, cv_auc)"
   ]
  },
  {
   "cell_type": "code",
   "execution_count": 123,
   "metadata": {},
   "outputs": [
    {
     "name": "stdout",
     "output_type": "stream",
     "text": [
      "For C = 100 the area under AUC curve is = 0.8272011610502992\n",
      "\n"
     ]
    }
   ],
   "source": [
    "C = optimal_C_CV\n",
    "pl = 'l2'\n",
    "pred = param_tune(std_tfidf_train, y_train, std_tfidf_test, y_test, C, pl)"
   ]
  },
  {
   "cell_type": "code",
   "execution_count": 124,
   "metadata": {},
   "outputs": [
    {
     "data": {
      "image/png": "[encoded data removed]",
      "text/plain": [
       "<Figure size 432x288 with 1 Axes>"
      ]
     },
     "metadata": {},
     "output_type": "display_data"
    }
   ],
   "source": [
    "roc_curve(y_test, pred)"
   ]
  },
  {
   "cell_type": "code",
   "execution_count": 125,
   "metadata": {},
   "outputs": [
    {
     "data": {
      "image/png": "[encoded data removed]",
      "text/plain": [
       "<Figure size 432x288 with 2 Axes>"
      ]
     },
     "metadata": {},
     "output_type": "display_data"
    }
   ],
   "source": [
    "confus_mat(y_test, pred)"
   ]
  },
  {
   "cell_type": "markdown",
   "metadata": {},
   "source": [
    "### 5.2.3 Feature Importance on TFIDF "
   ]
  },
  {
   "cell_type": "code",
   "execution_count": 170,
   "metadata": {},
   "outputs": [
    {
     "name": "stdout",
     "output_type": "stream",
     "text": [
      "Top 10 positive important features\n",
      "(8.372277029737305, 'around son')\n",
      "(8.407279373288883, 'allergey also')\n",
      "(8.840612001779103, 'around coupled')\n",
      "(9.281895080122714, 'allergies gave')\n",
      "(9.343263557620507, 'addtional')\n",
      "(9.518736904824442, 'accumulate towards')\n",
      "(9.64938747465288, 'amazing put')\n",
      "(9.69428144779639, 'aftering sitting')\n",
      "(9.723618529034471, 'anonymous worked')\n",
      "(10.230516309128944, 'absorb better')\n",
      "----------------------------------------------------------------------------------------------------\n",
      "Top 10 negative important features:\n",
      "----------------------------------------------------------------------------------------------------\n",
      "(-14.13825487280805, 'around facility')\n",
      "(-10.786918352390499, 'adoption told')\n",
      "(-10.363793453554992, 'appealing maybe')\n",
      "(-10.172466310149439, 'allergies health')\n",
      "(-10.167543564978656, 'adoption shelter')\n",
      "(-9.979605827402345, 'accumulating')\n",
      "(-9.48347656212905, 'admit stores')\n",
      "(-9.47362254796828, 'appears changed')\n",
      "(-9.402630621774094, 'across filter')\n",
      "(-9.30414875136226, 'allergies made')\n"
     ]
    }
   ],
   "source": [
    "topfeatures(tfidf)"
   ]
  },
  {
   "cell_type": "markdown",
   "metadata": {},
   "source": [
    "# 5.3 Logistic Regression on AVG W2V"
   ]
  },
  {
   "cell_type": "code",
   "execution_count": 126,
   "metadata": {},
   "outputs": [
    {
     "name": "stdout",
     "output_type": "stream",
     "text": [
      "(52663, 50)\n",
      "(17555, 50)\n",
      "(17555, 50)\n"
     ]
    }
   ],
   "source": [
    "from sklearn import preprocessing\n",
    "std_avg_w2v_train = preprocessing.normalize(avg_w2v_train)\n",
    "std_avg_w2v_cv = preprocessing.normalize(avg_w2v_cv)\n",
    "std_avg_w2v_test = preprocessing.normalize(avg_w2v_test)\n",
    "print(std_avg_w2v_train.shape)\n",
    "print(std_avg_w2v_cv .shape)\n",
    "print(std_avg_w2v_test.shape)"
   ]
  },
  {
   "cell_type": "markdown",
   "metadata": {},
   "source": [
    "## 5.3.1 Applying Logistic Regression with L1 regularization on AVG W2V"
   ]
  },
  {
   "cell_type": "code",
   "execution_count": 127,
   "metadata": {},
   "outputs": [
    {
     "name": "stdout",
     "output_type": "stream",
     "text": [
      "for C = 0.0001 the roc_auc_score is 0.5\n",
      "for C = 0.001 the roc_auc_score is 0.5\n",
      "for C = 0.01 the roc_auc_score is 0.8868701251182898\n",
      "for C = 0.1 the roc_auc_score is 0.9080843289287506\n",
      "for C = 1 the roc_auc_score is 0.9084557890001417\n",
      "for C = 10 the roc_auc_score is 0.9084492982883237\n",
      "for C = 100 the roc_auc_score is 0.9084472204124294\n",
      "for C = 1000 the roc_auc_score is 0.908446753950494\n",
      "for C = 10000 the roc_auc_score is 0.9084462079780012\n"
     ]
    }
   ],
   "source": [
    "pl = 'l1'\n",
    "train_auc, optimal_C = log_reg_train(std_avg_w2v_train, y_train_avg, pl)"
   ]
  },
  {
   "cell_type": "code",
   "execution_count": 128,
   "metadata": {},
   "outputs": [
    {
     "name": "stdout",
     "output_type": "stream",
     "text": [
      "for C = 0.0001 the roc_auc_score is 0.5\n",
      "for C = 0.001 the roc_auc_score is 0.5\n",
      "for C = 0.01 the roc_auc_score is 0.8844864887867486\n",
      "for C = 0.1 the roc_auc_score is 0.9049348225846552\n",
      "for C = 1 the roc_auc_score is 0.9058368056503512\n",
      "for C = 10 the roc_auc_score is 0.905902896829071\n",
      "for C = 100 the roc_auc_score is 0.9059111066116537\n",
      "for C = 1000 the roc_auc_score is 0.9059106208257021\n",
      "for C = 10000 the roc_auc_score is 0.9059110094544633\n"
     ]
    },
    {
     "data": {
      "text/plain": [
       "100"
      ]
     },
     "execution_count": 128,
     "metadata": {},
     "output_type": "execute_result"
    }
   ],
   "source": [
    "pl = 'l1'\n",
    "cv_auc, optimal_C_CV = log_reg_cv(std_avg_w2v_cv, y_cv_avg, std_avg_w2v_train, y_train_avg, pl)\n",
    "optimal_C_CV"
   ]
  },
  {
   "cell_type": "code",
   "execution_count": 129,
   "metadata": {},
   "outputs": [
    {
     "data": {
      "image/png": "[encoded data removed]",
      "text/plain": [
       "<Figure size 432x288 with 1 Axes>"
      ]
     },
     "metadata": {},
     "output_type": "display_data"
    }
   ],
   "source": [
    "C = [0.0001, 0.001, 0.01, 0.1, 1, 10, 100, 1000, 10000]\n",
    "ploting_train_cv(C, train_auc, cv_auc)"
   ]
  },
  {
   "cell_type": "code",
   "execution_count": 130,
   "metadata": {},
   "outputs": [
    {
     "name": "stdout",
     "output_type": "stream",
     "text": [
      "For C = 100 the area under AUC curve is = 0.7411706494434823\n",
      "\n"
     ]
    }
   ],
   "source": [
    "C = optimal_C_CV\n",
    "pl = 'l1'\n",
    "pred = param_tune(std_avg_w2v_train, y_train_avg, std_avg_w2v_test, y_test_avg, C, pl)"
   ]
  },
  {
   "cell_type": "code",
   "execution_count": 131,
   "metadata": {},
   "outputs": [
    {
     "data": {
      "image/png": "[encoded data removed]",
      "text/plain": [
       "<Figure size 432x288 with 1 Axes>"
      ]
     },
     "metadata": {},
     "output_type": "display_data"
    }
   ],
   "source": [
    "roc_curve(y_test_avg, pred)"
   ]
  },
  {
   "cell_type": "code",
   "execution_count": 132,
   "metadata": {},
   "outputs": [
    {
     "data": {
      "image/png": "[encoded data removed]",
      "text/plain": [
       "<Figure size 432x288 with 2 Axes>"
      ]
     },
     "metadata": {},
     "output_type": "display_data"
    }
   ],
   "source": [
    "confus_mat(y_test_avg, pred)"
   ]
  },
  {
   "cell_type": "markdown",
   "metadata": {},
   "source": [
    "## 5.3.2 Applying Logistic Regression with L2 regularization on AVG W2V "
   ]
  },
  {
   "cell_type": "code",
   "execution_count": 133,
   "metadata": {},
   "outputs": [
    {
     "name": "stdout",
     "output_type": "stream",
     "text": [
      "for C = 0.0001 the roc_auc_score is 0.736801597354372\n",
      "for C = 0.001 the roc_auc_score is 0.8743348988272951\n",
      "for C = 0.01 the roc_auc_score is 0.9013879232994306\n",
      "for C = 0.1 the roc_auc_score is 0.9078113400320764\n",
      "for C = 1 the roc_auc_score is 0.9084802331957711\n",
      "for C = 10 the roc_auc_score is 0.9084516438497605\n",
      "for C = 100 the roc_auc_score is 0.9084462662857433\n",
      "for C = 1000 the roc_auc_score is 0.9084458077748634\n",
      "for C = 10000 the roc_auc_score is 0.9084454314248928\n"
     ]
    }
   ],
   "source": [
    "pl = 'l2'\n",
    "train_auc, optimal_C = log_reg_train(std_avg_w2v_train, y_train_avg, pl)"
   ]
  },
  {
   "cell_type": "code",
   "execution_count": 134,
   "metadata": {},
   "outputs": [
    {
     "name": "stdout",
     "output_type": "stream",
     "text": [
      "for C = 0.0001 the roc_auc_score is 0.7408505616511437\n",
      "for C = 0.001 the roc_auc_score is 0.8733244878188687\n",
      "for C = 0.01 the roc_auc_score is 0.8989882438828133\n",
      "for C = 0.1 the roc_auc_score is 0.9052100203262557\n",
      "for C = 1 the roc_auc_score is 0.9059214538524234\n",
      "for C = 10 the roc_auc_score is 0.9059115681083078\n",
      "for C = 100 the roc_auc_score is 0.905907949002968\n",
      "for C = 1000 the roc_auc_score is 0.905907074588255\n",
      "for C = 10000 the roc_auc_score is 0.9059068316952793\n"
     ]
    },
    {
     "data": {
      "text/plain": [
       "1"
      ]
     },
     "execution_count": 134,
     "metadata": {},
     "output_type": "execute_result"
    }
   ],
   "source": [
    "pl = 'l2'\n",
    "cv_auc, optimal_C_CV = log_reg_cv(std_avg_w2v_cv, y_cv_avg, std_avg_w2v_train, y_train_avg, pl)\n",
    "optimal_C_CV"
   ]
  },
  {
   "cell_type": "code",
   "execution_count": 135,
   "metadata": {},
   "outputs": [
    {
     "data": {
      "image/png": "[encoded data removed]",
      "text/plain": [
       "<Figure size 432x288 with 1 Axes>"
      ]
     },
     "metadata": {},
     "output_type": "display_data"
    }
   ],
   "source": [
    "C = [0.0001, 0.001, 0.01, 0.1, 1, 10, 100, 1000, 10000]\n",
    "ploting_train_cv(C, train_auc, cv_auc)"
   ]
  },
  {
   "cell_type": "code",
   "execution_count": 136,
   "metadata": {},
   "outputs": [
    {
     "name": "stdout",
     "output_type": "stream",
     "text": [
      "For C = 1 the area under AUC curve is = 0.7379416015673432\n",
      "\n"
     ]
    }
   ],
   "source": [
    "C = optimal_C_CV\n",
    "pl = 'l2'\n",
    "pred = param_tune(std_avg_w2v_train, y_train_avg, std_avg_w2v_test, y_test_avg, C, pl)"
   ]
  },
  {
   "cell_type": "code",
   "execution_count": 137,
   "metadata": {},
   "outputs": [
    {
     "data": {
      "image/png": "[encoded data removed]",
      "text/plain": [
       "<Figure size 432x288 with 1 Axes>"
      ]
     },
     "metadata": {},
     "output_type": "display_data"
    }
   ],
   "source": [
    "roc_curve(y_test_avg, pred)"
   ]
  },
  {
   "cell_type": "code",
   "execution_count": 138,
   "metadata": {},
   "outputs": [
    {
     "data": {
      "image/png": "[encoded data removed]",
      "text/plain": [
       "<Figure size 432x288 with 2 Axes>"
      ]
     },
     "metadata": {},
     "output_type": "display_data"
    }
   ],
   "source": [
    "confus_mat(y_test_avg, pred)"
   ]
  },
  {
   "cell_type": "markdown",
   "metadata": {},
   "source": [
    "# 5.4 Logistic Regression on Tfidf W2V"
   ]
  },
  {
   "cell_type": "code",
   "execution_count": 139,
   "metadata": {},
   "outputs": [],
   "source": [
    "from sklearn import preprocessing\n",
    "std_xtf_w2v_train = preprocessing.normalize(xtf_w2v_train)\n",
    "std_xtf_w2v_cv = preprocessing.normalize(xtf_w2v_cv)\n",
    "std_xtf_w2v_test = preprocessing.normalize(xtf_w2v_test)"
   ]
  },
  {
   "cell_type": "markdown",
   "metadata": {},
   "source": [
    "## 5.4.1 Applying Logistic Regression with L1 regularization on TFIDF W2V"
   ]
  },
  {
   "cell_type": "code",
   "execution_count": 140,
   "metadata": {},
   "outputs": [
    {
     "name": "stdout",
     "output_type": "stream",
     "text": [
      "for C = 0.0001 the roc_auc_score is 0.5\n",
      "for C = 0.001 the roc_auc_score is 0.5\n",
      "for C = 0.01 the roc_auc_score is 0.856139922901157\n",
      "for C = 0.1 the roc_auc_score is 0.8814785009840731\n",
      "for C = 1 the roc_auc_score is 0.8819761496104144\n",
      "for C = 10 the roc_auc_score is 0.8819501682106795\n",
      "for C = 100 the roc_auc_score is 0.8819475205091254\n",
      "for C = 1000 the roc_auc_score is 0.881947080550709\n",
      "for C = 10000 the roc_auc_score is 0.881947162711618\n"
     ]
    }
   ],
   "source": [
    "pl = 'l1'\n",
    "train_auc, optimal_C = log_reg_train(std_xtf_w2v_train, ytf_w2v_train, pl)"
   ]
  },
  {
   "cell_type": "code",
   "execution_count": 141,
   "metadata": {},
   "outputs": [
    {
     "name": "stdout",
     "output_type": "stream",
     "text": [
      "for C = 0.0001 the roc_auc_score is 0.5\n",
      "for C = 0.001 the roc_auc_score is 0.5\n",
      "for C = 0.01 the roc_auc_score is 0.8538437910580214\n",
      "for C = 0.1 the roc_auc_score is 0.8773019817443581\n",
      "for C = 1 the roc_auc_score is 0.8780606093757272\n",
      "for C = 10 the roc_auc_score is 0.878074259960968\n",
      "for C = 100 the roc_auc_score is 0.8780763002619649\n",
      "for C = 1000 the roc_auc_score is 0.8780702036482719\n",
      "for C = 10000 the roc_auc_score is 0.8780768103372142\n"
     ]
    },
    {
     "data": {
      "text/plain": [
       "10000"
      ]
     },
     "execution_count": 141,
     "metadata": {},
     "output_type": "execute_result"
    }
   ],
   "source": [
    "pl = 'l1'\n",
    "cv_auc, optimal_C_CV = log_reg_cv(std_xtf_w2v_cv, ytf_w2v_cv, std_xtf_w2v_train, ytf_w2v_train, pl)\n",
    "optimal_C_CV"
   ]
  },
  {
   "cell_type": "code",
   "execution_count": 142,
   "metadata": {},
   "outputs": [
    {
     "data": {
      "image/png": "[encoded data removed]",
      "text/plain": [
       "<Figure size 432x288 with 1 Axes>"
      ]
     },
     "metadata": {},
     "output_type": "display_data"
    }
   ],
   "source": [
    "C = [0.0001, 0.001, 0.01, 0.1, 1, 10, 100, 1000, 10000]\n",
    "ploting_train_cv(C, train_auc, cv_auc)"
   ]
  },
  {
   "cell_type": "code",
   "execution_count": 145,
   "metadata": {},
   "outputs": [
    {
     "name": "stdout",
     "output_type": "stream",
     "text": [
      "For C = 1 the area under AUC curve is = 0.6904604003702938\n",
      "\n"
     ]
    }
   ],
   "source": [
    "C = optimal_C\n",
    "pl = 'l1'\n",
    "pred = param_tune(std_xtf_w2v_train, ytf_w2v_train, std_xtf_w2v_test, ytf_w2v_test, C, pl)"
   ]
  },
  {
   "cell_type": "code",
   "execution_count": 146,
   "metadata": {},
   "outputs": [
    {
     "data": {
      "image/png": "[encoded data removed]",
      "text/plain": [
       "<Figure size 432x288 with 1 Axes>"
      ]
     },
     "metadata": {},
     "output_type": "display_data"
    }
   ],
   "source": [
    "roc_curve(ytf_w2v_test, pred)"
   ]
  },
  {
   "cell_type": "code",
   "execution_count": 147,
   "metadata": {},
   "outputs": [
    {
     "data": {
      "image/png": "[encoded data removed]",
      "text/plain": [
       "<Figure size 432x288 with 2 Axes>"
      ]
     },
     "metadata": {},
     "output_type": "display_data"
    }
   ],
   "source": [
    "confus_mat(ytf_w2v_test, pred)"
   ]
  },
  {
   "cell_type": "markdown",
   "metadata": {},
   "source": [
    "## 5.4.2 Applying Logistic Regression with L2 regularization on AVG W2V "
   ]
  },
  {
   "cell_type": "code",
   "execution_count": 148,
   "metadata": {},
   "outputs": [
    {
     "name": "stdout",
     "output_type": "stream",
     "text": [
      "for C = 0.0001 the roc_auc_score is 0.7106267775877104\n",
      "for C = 0.001 the roc_auc_score is 0.843612011581423\n",
      "for C = 0.01 the roc_auc_score is 0.8734562621144604\n",
      "for C = 0.1 the roc_auc_score is 0.8810853265795158\n",
      "for C = 1 the roc_auc_score is 0.8819609524925853\n",
      "for C = 10 the roc_auc_score is 0.881948575349184\n",
      "for C = 100 the roc_auc_score is 0.8819443321357825\n",
      "for C = 1000 the roc_auc_score is 0.8819436827995654\n",
      "for C = 10000 the roc_auc_score is 0.8819435264288029\n"
     ]
    }
   ],
   "source": [
    "pl = 'l2'\n",
    "train_auc, optimal_C = log_reg_train(std_xtf_w2v_train, ytf_w2v_train, pl)"
   ]
  },
  {
   "cell_type": "code",
   "execution_count": 149,
   "metadata": {},
   "outputs": [
    {
     "name": "stdout",
     "output_type": "stream",
     "text": [
      "for C = 0.0001 the roc_auc_score is 0.7126612530032503\n",
      "for C = 0.001 the roc_auc_score is 0.8419368130440136\n",
      "for C = 0.01 the roc_auc_score is 0.870565442217267\n",
      "for C = 0.1 the roc_auc_score is 0.8774528182823406\n",
      "for C = 1 the roc_auc_score is 0.8781159889742134\n",
      "for C = 10 the roc_auc_score is 0.8780779033556053\n",
      "for C = 100 the roc_auc_score is 0.8780716852954245\n",
      "for C = 1000 the roc_auc_score is 0.8780700093338913\n",
      "for C = 10000 the roc_auc_score is 0.8780694749693445\n"
     ]
    },
    {
     "data": {
      "text/plain": [
       "1"
      ]
     },
     "execution_count": 149,
     "metadata": {},
     "output_type": "execute_result"
    }
   ],
   "source": [
    "pl = 'l2'\n",
    "cv_auc, optimal_C_CV = log_reg_cv(std_xtf_w2v_cv, ytf_w2v_cv, std_xtf_w2v_train, ytf_w2v_train, pl)\n",
    "optimal_C_CV"
   ]
  },
  {
   "cell_type": "code",
   "execution_count": 150,
   "metadata": {},
   "outputs": [
    {
     "data": {
      "image/png": "[encoded data removed]",
      "text/plain": [
       "<Figure size 432x288 with 1 Axes>"
      ]
     },
     "metadata": {},
     "output_type": "display_data"
    }
   ],
   "source": [
    "C = [0.0001, 0.001, 0.01, 0.1, 1, 10, 100, 1000, 10000]\n",
    "ploting_train_cv(C, train_auc, cv_auc)"
   ]
  },
  {
   "cell_type": "code",
   "execution_count": 151,
   "metadata": {},
   "outputs": [
    {
     "name": "stdout",
     "output_type": "stream",
     "text": [
      "For C = 1 the area under AUC curve is = 0.6895271262951927\n",
      "\n"
     ]
    }
   ],
   "source": [
    "C = optimal_C_CV\n",
    "pl = 'l2'\n",
    "pred = param_tune(std_xtf_w2v_train, ytf_w2v_train, std_xtf_w2v_test, ytf_w2v_test, C, pl)\n"
   ]
  },
  {
   "cell_type": "code",
   "execution_count": 152,
   "metadata": {},
   "outputs": [
    {
     "data": {
      "image/png": "[encoded data removed]",
      "text/plain": [
       "<Figure size 432x288 with 1 Axes>"
      ]
     },
     "metadata": {},
     "output_type": "display_data"
    }
   ],
   "source": [
    "roc_curve(ytf_w2v_test, pred)"
   ]
  },
  {
   "cell_type": "code",
   "execution_count": 153,
   "metadata": {},
   "outputs": [
    {
     "data": {
      "image/png": "[encoded data removed]",
      "text/plain": [
       "<Figure size 432x288 with 2 Axes>"
      ]
     },
     "metadata": {},
     "output_type": "display_data"
    }
   ],
   "source": [
    "confus_mat(ytf_w2v_test, pred)"
   ]
  },
  {
   "cell_type": "markdown",
   "metadata": {},
   "source": [
    "# 6. Conclusion"
   ]
  },
  {
   "cell_type": "code",
   "execution_count": 33,
   "metadata": {},
   "outputs": [
    {
     "data": {
      "text/html": [
       "<div>\n",
       "<style scoped>\n",
       "    .dataframe tbody tr th:only-of-type {\n",
       "        vertical-align: middle;\n",
       "    }\n",
       "\n",
       "    .dataframe tbody tr th {\n",
       "        vertical-align: top;\n",
       "    }\n",
       "\n",
       "    .dataframe thead th {\n",
       "        text-align: right;\n",
       "    }\n",
       "</style>\n",
       "<table border=\"1\" class=\"dataframe\">\n",
       "  <thead>\n",
       "    <tr style=\"text-align: right;\">\n",
       "      <th></th>\n",
       "      <th>Vectorizer</th>\n",
       "      <th>Regularizer</th>\n",
       "      <th>Best alpha</th>\n",
       "      <th>AUC Score</th>\n",
       "    </tr>\n",
       "  </thead>\n",
       "  <tbody>\n",
       "    <tr>\n",
       "      <th>0</th>\n",
       "      <td>BOW</td>\n",
       "      <td>L1</td>\n",
       "      <td>1</td>\n",
       "      <td>79.63</td>\n",
       "    </tr>\n",
       "    <tr>\n",
       "      <th>1</th>\n",
       "      <td>BOW</td>\n",
       "      <td>L2</td>\n",
       "      <td>10</td>\n",
       "      <td>82.23</td>\n",
       "    </tr>\n",
       "    <tr>\n",
       "      <th>2</th>\n",
       "      <td>TFIDF</td>\n",
       "      <td>L1</td>\n",
       "      <td>10</td>\n",
       "      <td>83.07</td>\n",
       "    </tr>\n",
       "    <tr>\n",
       "      <th>3</th>\n",
       "      <td>TFIDF</td>\n",
       "      <td>L2</td>\n",
       "      <td>100</td>\n",
       "      <td>82.72</td>\n",
       "    </tr>\n",
       "    <tr>\n",
       "      <th>4</th>\n",
       "      <td>AVG W2V</td>\n",
       "      <td>L1</td>\n",
       "      <td>100</td>\n",
       "      <td>74.11</td>\n",
       "    </tr>\n",
       "    <tr>\n",
       "      <th>5</th>\n",
       "      <td>AVG W2V</td>\n",
       "      <td>L2</td>\n",
       "      <td>1</td>\n",
       "      <td>73.79</td>\n",
       "    </tr>\n",
       "    <tr>\n",
       "      <th>6</th>\n",
       "      <td>TFIDF W2V</td>\n",
       "      <td>L1</td>\n",
       "      <td>1</td>\n",
       "      <td>69.04</td>\n",
       "    </tr>\n",
       "    <tr>\n",
       "      <th>7</th>\n",
       "      <td>TFIDF W2V</td>\n",
       "      <td>L2</td>\n",
       "      <td>1</td>\n",
       "      <td>68.95</td>\n",
       "    </tr>\n",
       "  </tbody>\n",
       "</table>\n",
       "</div>"
      ],
      "text/plain": [
       "  Vectorizer Regularizer  Best alpha  AUC Score\n",
       "0        BOW          L1           1      79.63\n",
       "1        BOW          L2          10      82.23\n",
       "2      TFIDF          L1          10      83.07\n",
       "3      TFIDF          L2         100      82.72\n",
       "4    AVG W2V          L1         100      74.11\n",
       "5    AVG W2V          L2           1      73.79\n",
       "6  TFIDF W2V          L1           1      69.04\n",
       "7  TFIDF W2V          L2           1      68.95"
      ]
     },
     "execution_count": 33,
     "metadata": {},
     "output_type": "execute_result"
    }
   ],
   "source": [
    "list_1 = [['BOW','L1',1, 79.63],\n",
    "          ['BOW','L2',10, 82.23],\n",
    "          ['TFIDF','L1',10, 83.07],\n",
    "          ['TFIDF','L2',100, 82.72],\n",
    "          ['AVG W2V','L1',100, 74.11],\n",
    "          ['AVG W2V','L2',1, 73.79],\n",
    "          ['TFIDF W2V','L1',1, 69.04],\n",
    "          ['TFIDF W2V','L2',1, 68.95]]\n",
    "columns= ['Vectorizer', 'Regularizer', 'Best alpha', 'AUC Score']\n",
    "pd.DataFrame(list_1,columns = columns)"
   ]
  },
  {
   "cell_type": "code",
   "execution_count": null,
   "metadata": {},
   "outputs": [],
   "source": []
  }
 ],
 "metadata": {
  "kernelspec": {
   "display_name": "Python 3",
   "language": "python",
   "name": "python3"
  },
  "language_info": {
   "codemirror_mode": {
    "name": "ipython",
    "version": 3
   },
   "file_extension": ".py",
   "mimetype": "text/x-python",
   "name": "python",
   "nbconvert_exporter": "python",
   "pygments_lexer": "ipython3",
   "version": "3.6.5"
  }
 },
 "nbformat": 4,
 "nbformat_minor": 2
}
